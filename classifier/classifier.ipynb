{
 "cells": [
  {
   "cell_type": "markdown",
   "metadata": {},
   "source": [
    "### Imports"
   ]
  },
  {
   "cell_type": "code",
   "execution_count": 1,
   "metadata": {},
   "outputs": [],
   "source": [
    "from sklearn.feature_extraction.text import CountVectorizer\n",
    "from sklearn.feature_extraction.text import TfidfVectorizer\n",
    "\n",
    "from sklearn.tree import DecisionTreeClassifier\n",
    "from sklearn.ensemble import RandomForestClassifier\n",
    "from sklearn.svm import LinearSVC\n",
    "from sklearn.naive_bayes import MultinomialNB\n",
    "from sklearn.linear_model import LogisticRegression\n",
    "\n",
    "from sklearn.metrics import accuracy_score, confusion_matrix, classification_report, precision_recall_fscore_support\n",
    "from sklearn.model_selection import train_test_split, ParameterGrid, cross_validate\n",
    "import nltk\n",
    "from nltk.tokenize import word_tokenize\n",
    "from sklearn.utils import shuffle\n",
    "from sklearn import decomposition\n",
    "import pandas as pd\n",
    "from copy import deepcopy\n",
    "import os\n",
    "import re\n",
    "import numpy as np\n",
    "import matplotlib.pyplot as plt\n",
    "import json\n",
    "import itertools\n",
    "import random\n",
    "import warnings\n",
    "import string\n",
    "from shutil import copyfile\n",
    "warnings.filterwarnings(\"ignore\", category=UserWarning)\n",
    "\n",
    "from functions import *\n"
   ]
  },
  {
   "cell_type": "markdown",
   "metadata": {},
   "source": [
    "### Define Variables"
   ]
  },
  {
   "cell_type": "code",
   "execution_count": 2,
   "metadata": {},
   "outputs": [],
   "source": [
    "global_shuffle_seed = 4\n",
    "global_debug=True\n",
    "global_override=True"
   ]
  },
  {
   "cell_type": "markdown",
   "metadata": {},
   "source": [
    "### Load tagtog Data"
   ]
  },
  {
   "cell_type": "code",
   "execution_count": 3,
   "metadata": {},
   "outputs": [
    {
     "name": "stdout",
     "output_type": "stream",
     "text": [
      "Total: 1380 True: 663 False: 717\n"
     ]
    }
   ],
   "source": [
    "result, clf_result = {}, {}\n",
    "df_data = load_data_tagtog(['../tagtog/output'])\n",
    "df_data = df_data[df_data['is_flood'].notna()]\n",
    "data_true = query_dataframe(df_data, {'is_flood':True})\n",
    "data_false = query_dataframe(df_data, {'is_flood':False})\n",
    "print('Total:',len(df_data),'True:',len(data_true), 'False:',len(data_false))"
   ]
  },
  {
   "cell_type": "markdown",
   "metadata": {},
   "source": [
    "### Preprocess Data"
   ]
  },
  {
   "cell_type": "code",
   "execution_count": 5,
   "metadata": {},
   "outputs": [],
   "source": [
    "custom_stop_words = set(['date', 'published'])\n",
    "stop_words = set(nltk.corpus.stopwords.words('english'))\n",
    "punctuations = set(string.punctuation)\n",
    "all_stop_words = stop_words.union(punctuations, custom_stop_words)\n",
    "def preprocess(x):\n",
    "    x = re.sub('[^a-z\\s]', ' ', x.lower())\n",
    "    x = [w for w in x.split() if w not in all_stop_words and len(w)>3]\n",
    "    return ' '.join(x)"
   ]
  },
  {
   "cell_type": "code",
   "execution_count": 6,
   "metadata": {},
   "outputs": [],
   "source": [
    "df_data['org_text'] = df_data['text']\n",
    "df_data['text'] = df_data['text'].apply(preprocess)"
   ]
  },
  {
   "cell_type": "markdown",
   "metadata": {},
   "source": [
    "### Split Data"
   ]
  },
  {
   "cell_type": "code",
   "execution_count": 7,
   "metadata": {},
   "outputs": [],
   "source": [
    "def make_data_ratio(df_data, test_size=None, train_size=None, shuffle_seed=4, debug=False, \n",
    "                    save_folder=None, load_folder=None, override=False, file_prefix=''):\n",
    "    save_file, load_file=None, None\n",
    "    if save_folder: save_file = os.path.join(save_folder,file_prefix+'data.json')\n",
    "    if load_folder: load_file = os.path.join(load_folder,file_prefix+'data.json')\n",
    "    \n",
    "    if not override and load_file and os.path.isfile(load_file):\n",
    "        if debug: print('loaded',load_file)\n",
    "        js = json.load(open(load_file))\n",
    "        train_df = pd.DataFrame(js['train'])\n",
    "        test_df = pd.DataFrame(js['test'])\n",
    "        return {'train':train_df, 'test':test_df}\n",
    "    \n",
    "    train_df, test_df = train_test_split(df_data, test_size=test_size, train_size=train_size, random_state=shuffle_seed, stratify=df_data['is_flood'])\n",
    "    \n",
    "#     true_data = df_data.loc[df_data['is_flood']==True]\n",
    "#     false_data = df_data.loc[df_data['is_flood']==False]\n",
    "#     train_true, test_true = train_test_split(true_data, test_size=test_size, random_state=shuffle_seed)\n",
    "#     train_false, test_false = train_test_split(false_data, test_size=test_size, random_state=shuffle_seed)\n",
    "    \n",
    "#     train_df = pd.concat([train_true, train_false])\n",
    "#     train_df = train_df.sample(n=len(train_df), random_state=shuffle_seed).reset_index(drop=True)\n",
    "#     test_df = pd.concat([test_true, test_false])\n",
    "#     test_df = test_df.sample(n=len(test_df), random_state=shuffle_seed).reset_index(drop=True)\n",
    "    \n",
    "    if debug: print('Data Loaded')\n",
    "\n",
    "    if save_file:\n",
    "        train_json = train_df.to_json(orient='records')\n",
    "        test_json = test_df.to_json(orient='records')\n",
    "        json.dump({'train':json.loads(train_json), 'test':json.loads(test_json)}, open(save_file,'w'), indent=2)\n",
    "    return {'train':train_df, 'test':test_df}\n"
   ]
  },
  {
   "cell_type": "code",
   "execution_count": 8,
   "metadata": {
    "scrolled": true
   },
   "outputs": [
    {
     "name": "stdout",
     "output_type": "stream",
     "text": [
      "Data Loaded\n"
     ]
    }
   ],
   "source": [
    "result, clf_result = {}, {}\n",
    "save_data_folder = 'data_splits/'\n",
    "load_data_folder = 'data_splits/'\n",
    "test_size = 0.2\n",
    "if not os.path.isdir(save_data_folder): os.mkdir(save_data_folder)\n",
    "debug=global_debug or False\n",
    "override=global_override or False\n",
    "data_split = make_data_ratio(df_data, test_size=test_size, save_folder=save_data_folder, load_folder=load_data_folder, \n",
    "                               debug=debug, shuffle_seed=global_shuffle_seed, override=override)\n"
   ]
  },
  {
   "cell_type": "code",
   "execution_count": 9,
   "metadata": {
    "scrolled": true
   },
   "outputs": [
    {
     "name": "stdout",
     "output_type": "stream",
     "text": [
      "Train: 1104 \t\tTest: 276\n",
      "Train is_flood: 530 \tTrain not is_flood: 574\n",
      "Test is_flood: 133 \tTest not is_flood: 143\n"
     ]
    }
   ],
   "source": [
    "print('Train:',len(data_split['train']), '\\t\\tTest:',len(data_split['test']))\n",
    "print('Train is_flood:',len(data_split['train'].loc[data_split['train']['is_flood']==True]), \\\n",
    "'\\tTrain not is_flood:',len(data_split['train'].loc[data_split['train']['is_flood']==False]))\n",
    "print('Test is_flood:',len(data_split['test'].loc[data_split['test']['is_flood']==True]), \\\n",
    "'\\tTest not is_flood:',len(data_split['test'].loc[data_split['test']['is_flood']==False]))"
   ]
  },
  {
   "cell_type": "code",
   "execution_count": 10,
   "metadata": {},
   "outputs": [
    {
     "data": {
      "text/plain": [
       "(array([762., 451., 107.,  34.,   9.,   7.,   2.,   5.,   1.,   2.]),\n",
       " array([   9. ,  278.4,  547.8,  817.2, 1086.6, 1356. , 1625.4, 1894.8,\n",
       "        2164.2, 2433.6, 2703. ]),\n",
       " <a list of 10 Patch objects>)"
      ]
     },
     "execution_count": 10,
     "metadata": {},
     "output_type": "execute_result"
    },
    {
     "data": {
      "image/png": "[encoded data removed]",
      "text/plain": [
       "<Figure size 432x288 with 1 Axes>"
      ]
     },
     "metadata": {
      "needs_background": "light"
     },
     "output_type": "display_data"
    }
   ],
   "source": [
    "words = [len(f.split(' ')) for f in df_data['text']]\n",
    "words.sort()\n",
    "plt.hist(words)"
   ]
  },
  {
   "cell_type": "code",
   "execution_count": 11,
   "metadata": {},
   "outputs": [
    {
     "data": {
      "text/plain": [
       "(array([139., 204., 162.,  82.,  34.,  22.,  11.,   6.,   2.,   1.]),\n",
       " array([  15. ,  131.4,  247.8,  364.2,  480.6,  597. ,  713.4,  829.8,\n",
       "         946.2, 1062.6, 1179. ]),\n",
       " <a list of 10 Patch objects>)"
      ]
     },
     "execution_count": 11,
     "metadata": {},
     "output_type": "execute_result"
    },
    {
     "data": {
      "image/png": "[encoded data removed]",
      "text/plain": [
       "<Figure size 432x288 with 1 Axes>"
      ]
     },
     "metadata": {
      "needs_background": "light"
     },
     "output_type": "display_data"
    }
   ],
   "source": [
    "words = [len(f.split(' ')) for f in df_data.loc[df_data['is_flood']==True]['text']]\n",
    "words.sort()\n",
    "plt.hist(words)"
   ]
  },
  {
   "cell_type": "markdown",
   "metadata": {},
   "source": [
    "### Classifier"
   ]
  },
  {
   "cell_type": "code",
   "execution_count": 12,
   "metadata": {},
   "outputs": [],
   "source": [
    "def make_data(vect_fit, ratio):\n",
    "    train, test = ratio.get('train',None), ratio.get('test',None)\n",
    "    if train is None or test is None: raise Exception('Train or Test data not found')\n",
    "    all_X = list(train['text'])\n",
    "    \n",
    "    vect = vect_fit.fit(all_X)\n",
    "    trainX, testX = vect.transform(list(train['text'])), vect.transform(list(test['text']))\n",
    "    trainY, testY = [1 if t else 0 for t in train['is_flood']], [1 if t else 0 for t in test['is_flood']]\n",
    "    return trainX, testX, trainY, testY, vect\n"
   ]
  },
  {
   "cell_type": "code",
   "execution_count": 13,
   "metadata": {},
   "outputs": [],
   "source": [
    "def run_classifier(clf, trainX, testX, trainY, testY):\n",
    "    clf_fit = clf.fit(trainX, trainY)\n",
    "    clf_pred = clf_fit.predict(testX)\n",
    "    clf_acc = accuracy_score(testY, clf_pred)\n",
    "    return clf_fit, clf_pred, clf_acc"
   ]
  },
  {
   "cell_type": "code",
   "execution_count": 14,
   "metadata": {},
   "outputs": [],
   "source": [
    "def get_method(main_d, name):\n",
    "    if name not in main_d: raise Exception('Cannot find classifier/feature_extractor name in parameter dictionary')\n",
    "    d = main_d[name]\n",
    "    method = d.get('method',None)\n",
    "    base_method = d.get('base_method',None)\n",
    "    if method and base_method: raise Exception('Cannot have method and base method both.')\n",
    "    if not method and not base_method: raise Exception('Unable to parse the method from classifier/feature_extractor')\n",
    "    params = d.get('params',None)\n",
    "    if method:\n",
    "        if params: return method, params\n",
    "        else: return method, None\n",
    "    if base_method:\n",
    "        prev_method, prev_params = get_method(main_d, base_method)\n",
    "        if params:\n",
    "            for k,v in params.items(): prev_params[k] = v\n",
    "        return prev_method, prev_params\n",
    "\n",
    "def make_method(main_d, name, override_params={}):\n",
    "    method, params = get_method(main_d, name)[:]\n",
    "    if override_params:\n",
    "        for k,v in override_params.items(): params[k] = v\n",
    "    if params: return method(**params)\n",
    "    else: return method()"
   ]
  },
  {
   "cell_type": "code",
   "execution_count": 15,
   "metadata": {},
   "outputs": [],
   "source": [
    "def run_grid(grid, data, feature_extract, classifiers, clf_result, result, \n",
    "             debug=False, override=False, save_folder=None, load_folder=None, file_prefix=''):\n",
    "    save_clf_result = {}\n",
    "    vectCache, classifierCache = {}, {}\n",
    "    if load_folder:\n",
    "        res_file = os.path.join(load_folder,file_prefix+'clf_result.json')\n",
    "        clf_res_file = os.path.join(load_folder,file_prefix+'result.json')\n",
    "        if os.path.isfile(res_file): clf_result=json.load(open(res_file))\n",
    "        if os.path.isfile(clf_res_file): result=json.load(open(clf_res_file))\n",
    "        if os.path.isfile(res_file) and os.path.isfile(clf_res_file) and debug: print('loaded result')\n",
    "    \n",
    "    if override:\n",
    "        clf_result, result = {}, {}\n",
    "        if debug: print('OVERRIDE')\n",
    "    for g in list(grid):\n",
    "        try:\n",
    "            feature_name = g.get('feature_extract',None)\n",
    "            clf_name = g.get('classifier', None)\n",
    "            if not feature_name or not clf_name:\n",
    "                raise Exception('Feature Extract and Classifier Name required')\n",
    "            result_key = feature_name + '-' + clf_name\n",
    "            if result.get(result_key): continue\n",
    "            if debug: print('Feature:', feature_name, '  Clasifier:',clf_name, '  Key:',result_key)\n",
    "            \n",
    "            if feature_name in vectCache:\n",
    "                (trainX, testX, trainY, testY, feature2) = vectCache[feature_name]\n",
    "            else:\n",
    "                feature = make_method(feature_extract, feature_name)\n",
    "                trainX, testX, trainY, testY, feature2 = make_data(feature, data)\n",
    "                vectCache[feature_name] = (trainX, testX, trainY, testY, feature2)\n",
    "\n",
    "            clf = make_method(classifiers, clf_name)\n",
    "            clf_fit, clf_pred, clf_acc = run_classifier(clf, trainX, testX, trainY, testY)\n",
    "            \n",
    "            result[result_key] = {\n",
    "                'feature_extract': feature_name,\n",
    "                'classifier': clf_name,\n",
    "                'accuracy': clf_acc\n",
    "            }\n",
    "            \n",
    "            clf_result[result_key] = {\n",
    "                'feature_extract': feature_name,\n",
    "                'classifier': clf_name,\n",
    "                'clf': clf_fit,\n",
    "                'feature': feature2,\n",
    "                'predict': clf_pred\n",
    "            }\n",
    "            \n",
    "            save_clf_result[result_key] = {\n",
    "                'feature_extract': feature_name,\n",
    "                'classifier': clf_name,\n",
    "                'predict': clf_pred.tolist()\n",
    "            }  \n",
    "        except Exception as e:\n",
    "            print('Error:',e)\n",
    "            continue\n",
    "    if save_folder:\n",
    "        json.dump(save_clf_result, open(os.path.join(load_folder,file_prefix+'clf_result.json'),'w'), indent=2)\n",
    "        json.dump(result, open(os.path.join(load_folder,file_prefix+'result.json'),'w'), indent=2)\n",
    "    return clf_result, result\n"
   ]
  },
  {
   "cell_type": "code",
   "execution_count": 16,
   "metadata": {},
   "outputs": [],
   "source": [
    "def run_grid_cross_validate(grid, data, feature_extract, classifiers, result, debug=False):\n",
    "    for g in list(grid):\n",
    "        feature_name = g.get('feature_extract',None)\n",
    "        clf_name = g.get('classifier', None)\n",
    "        if not feature_name or not clf_name:\n",
    "            raise Exception('Feature Extract and Classifier Name required')\n",
    "        result_key = feature_name + '-' + clf_name\n",
    "        if result.get(result_key): continue\n",
    "        if debug: print('Feature:', feature_name, '  Clasifier:',clf_name, '  Key:',result_key)\n",
    "\n",
    "        feature = make_method(feature_extract, 'TFIDF')\n",
    "        all_X = data['text']\n",
    "        all_Y = data['is_flood']\n",
    "        vect = feature.fit(all_X)\n",
    "        x, y = vect.transform(list(all_X)), [1 if t else 0 for t in all_Y]\n",
    "        clf = make_method(classifiers, clf_name)\n",
    "        cv = cross_validate(clf, x, y, cv=5,\n",
    "                      scoring=('accuracy', 'precision', 'recall', 'f1'))\n",
    "        result[result_key] = cv\n",
    "    return result"
   ]
  },
  {
   "cell_type": "code",
   "execution_count": 17,
   "metadata": {},
   "outputs": [],
   "source": [
    "def parse_result(result, clf_result=None, data=None, accuracy_threshold=None, split_by='classifier'):\n",
    "    keys = list(result.keys())\n",
    "    temp_df = pd.DataFrame(list(result.values()))\n",
    "    if clf_result is not None and data is not None:\n",
    "        presicion, recall, f1, support = [], [], [], []\n",
    "        actual = [1 if f else 0 for f in list(data['test']['is_flood'])]\n",
    "        for method_name in keys:\n",
    "            predict = clf_result[method_name]['predict']\n",
    "            pre, rec, fsc, sup = precision_recall_fscore_support(actual, predict, average='binary')\n",
    "            presicion.append(pre)\n",
    "            recall.append(rec)\n",
    "            f1.append(fsc)\n",
    "            support.append(sup)\n",
    "        temp_df['f1'] = f1\n",
    "        temp_df['presicion'] = presicion\n",
    "        temp_df['recall'] = recall\n",
    "#     temp_df['keys'] = keys\n",
    "    splt_val = list(set(list(temp_df[split_by])))\n",
    "    for d in splt_val:\n",
    "        if accuracy_threshold:\n",
    "            new_df = temp_df.loc[temp_df[split_by]==d]\n",
    "            new_df = new_df.loc[new_df['accuracy']>accuracy_threshold] \\\n",
    "                            .drop(split_by, axis=1) \\\n",
    "                            .sort_values(by='accuracy',ascending=False) \\\n",
    "                            .reset_index(drop=True)\n",
    "        else:\n",
    "            new_df = temp_df.loc[temp_df[split_by]==d] \\\n",
    "                            .drop(split_by, axis=1) \\\n",
    "                            .sort_values(by='accuracy',ascending=False) \\\n",
    "                            .reset_index(drop=True)\n",
    "        print('{}: {}'.format(split_by,d))\n",
    "        print(new_df.to_markdown())\n",
    "        print()"
   ]
  },
  {
   "cell_type": "code",
   "execution_count": 18,
   "metadata": {},
   "outputs": [],
   "source": [
    "def compare_result(clf_result, data, method_name, conf_matrix=True, class_report=True):\n",
    "    if method_name not in clf_result: raise Exception('Cannot find method')\n",
    "    res = clf_result[method_name]\n",
    "    new_df = data['test']\n",
    "    actual = [1 if f else 0 for f in list(new_df['is_flood'])]\n",
    "    new_df['predict'] = res['predict']\n",
    "    if conf_matrix:\n",
    "        mat = confusion_matrix(actual, res['predict'])\n",
    "        plot_confusion_matrix(mat, ['Negative', 'Positive'])\n",
    "        print(mat)\n",
    "    if class_report: print(classification_report(actual, res['predict']))\n",
    "    cr = classification_report(actual, res['predict'])\n",
    "    return new_df\n",
    "    "
   ]
  },
  {
   "cell_type": "code",
   "execution_count": 19,
   "metadata": {},
   "outputs": [],
   "source": [
    "def plot_confusion_matrix(cm,\n",
    "                          target_names,\n",
    "                          title='Confusion matrix',\n",
    "                          cmap=None,\n",
    "                          normalize=True):\n",
    "    plt.rcParams.update({'font.size': 18})\n",
    "    accuracy = np.trace(cm) / np.sum(cm).astype('float')\n",
    "    misclass = 1 - accuracy\n",
    "\n",
    "    if cmap is None:\n",
    "        cmap = plt.get_cmap('Blues')\n",
    "\n",
    "    plt.figure(figsize=(8, 6))\n",
    "    plt.imshow(cm, interpolation='nearest', cmap=cmap)\n",
    "    plt.title(title)\n",
    "    plt.colorbar()\n",
    "\n",
    "    if target_names is not None:\n",
    "        tick_marks = np.arange(len(target_names))\n",
    "        plt.xticks(tick_marks, target_names, rotation=45)\n",
    "        plt.yticks(tick_marks, target_names)\n",
    "\n",
    "    if normalize:\n",
    "        cm = cm.astype('float') / cm.sum(axis=1)[:, np.newaxis]\n",
    "\n",
    "\n",
    "    thresh = cm.max() / 1.5 if normalize else cm.max() / 2\n",
    "    for i, j in itertools.product(range(cm.shape[0]), range(cm.shape[1])):\n",
    "        if normalize:\n",
    "            plt.text(j, i, \"{:0.4f}\".format(cm[i, j]),\n",
    "                     horizontalalignment=\"center\",\n",
    "                     color=\"white\" if cm[i, j] > thresh else \"black\")\n",
    "        else:\n",
    "            plt.text(j, i, \"{:,}\".format(cm[i, j]),\n",
    "                     horizontalalignment=\"center\",\n",
    "                     color=\"white\" if cm[i, j] > thresh else \"black\")\n",
    "\n",
    "\n",
    "    plt.tight_layout()\n",
    "    plt.ylabel('True label')\n",
    "    plt.xlabel('Predicted label\\naccuracy={:0.4f}; misclass={:0.4f}'.format(accuracy, misclass))\n",
    "    plt.show()"
   ]
  },
  {
   "cell_type": "code",
   "execution_count": 20,
   "metadata": {},
   "outputs": [],
   "source": [
    "def make_vocab(ratio):\n",
    "    train, test = ratio.get('train',None), ratio.get('test',None)\n",
    "    if train is None or test is None: raise Exception('Train or Test data not found')\n",
    "    all_X = list(train['text']) + list(test['text'])\n",
    "    \n",
    "    params= {\n",
    "            'tokenizer': word_tokenize,\n",
    "            'stop_words': 'english',\n",
    "        }\n",
    "    vect = CountVectorizer(**params)\n",
    "    vect = vect.fit(all_X)\n",
    "    return list(vect.vocabulary_.keys())"
   ]
  },
  {
   "cell_type": "code",
   "execution_count": 21,
   "metadata": {},
   "outputs": [],
   "source": [
    "# Logistic Regression\n",
    "vocab = make_vocab(data_split)\n",
    "feature_extract = {\n",
    "    'CountVect': {\n",
    "        'classifier_type': 'Count Vectorizer',\n",
    "        'method': CountVectorizer,\n",
    "        'params': {\n",
    "            'tokenizer': word_tokenize,\n",
    "            'stop_words': 'english',\n",
    "            'vocabulary': vocab\n",
    "        }\n",
    "    },\n",
    "    'CountVect-2gram':{\n",
    "        'base_method': 'CountVect',\n",
    "        'params':{\n",
    "            'ngram_range':(1,2)\n",
    "        }\n",
    "    },\n",
    "    'CountVect-min_df-max_df':{\n",
    "        'base_method': 'CountVect',\n",
    "        'params':{\n",
    "            'min_df': 0.05,\n",
    "            'max_df': 0.95\n",
    "        }\n",
    "    },\n",
    "    'CountVect-2gram-min_df-max_df':{\n",
    "        'base_method': 'CountVect',\n",
    "        'params':{\n",
    "            'min_df': 0.05,\n",
    "            'max_df': 0.95,\n",
    "            'ngram_range':(1,2)\n",
    "        }\n",
    "    },\n",
    "    'TFIDF': {\n",
    "        'classifier_type': 'TFIDF',\n",
    "        'method': TfidfVectorizer,\n",
    "        'params': {\n",
    "            'tokenizer': word_tokenize,\n",
    "            'stop_words': 'english',\n",
    "            'vocabulary': vocab\n",
    "        }\n",
    "    },\n",
    "    'TFIDF-2gram':{\n",
    "        'base_method': 'TFIDF',\n",
    "        'params':{\n",
    "            'ngram_range':(1,2)\n",
    "        }\n",
    "    },\n",
    "    'TFIDF-min_df-max_df':{\n",
    "        'base_method': 'TFIDF',\n",
    "        'params':{\n",
    "            'min_df': 0.05,\n",
    "            'max_df': 0.95\n",
    "        }\n",
    "    },\n",
    "    'TFIDF-2gram-min_df-max_df':{\n",
    "        'base_method': 'TFIDF',\n",
    "        'params':{\n",
    "            'min_df': 0.05,\n",
    "            'max_df': 0.95,\n",
    "            'ngram_range':(1,2)\n",
    "        }\n",
    "    }\n",
    "}\n",
    "\n",
    "classifiers = {\n",
    "    'RandomForest': {\n",
    "        'classifier_type':'Random Forest ',\n",
    "        'method': RandomForestClassifier,\n",
    "        'params':{\n",
    "            'class_weight':'balanced'\n",
    "        }\n",
    "    },\n",
    "    'LinearSVC': {\n",
    "        'classifier_type': 'Linear SVC',\n",
    "        'method': LinearSVC,\n",
    "        'params':{\n",
    "            'class_weight':'balanced'\n",
    "        }\n",
    "    },\n",
    "    'LogRegL1':{\n",
    "        'classifier_type': 'Logistic Regression L1',\n",
    "        'method': LogisticRegression,\n",
    "        'params':{\n",
    "            'penalty': 'l1',\n",
    "            'class_weight':'balanced',\n",
    "            'solver': 'liblinear',\n",
    "            'max_iter': 1000\n",
    "        }\n",
    "    },\n",
    "    'LogRegL2':{\n",
    "        'classifier_type': 'Logistic Regression L2',\n",
    "        'method': LogisticRegression,\n",
    "        'params':{\n",
    "            'penalty': 'l2',\n",
    "            'class_weight':'balanced',\n",
    "            'solver': 'liblinear',\n",
    "            'max_iter': 1000\n",
    "        }\n",
    "    }\n",
    "}\n",
    "\n",
    "grid_parameters = {\n",
    "    'feature_extract': list(feature_extract.keys()),\n",
    "    'classifier': list(classifiers.keys()),\n",
    "}\n",
    "\n",
    "grid = ParameterGrid(grid_parameters)"
   ]
  },
  {
   "cell_type": "code",
   "execution_count": 128,
   "metadata": {},
   "outputs": [],
   "source": [
    "# # Single Classifier\n",
    "\n",
    "# feature_extract = single_feature_extract\n",
    "# classifiers = single_classifiers\n",
    "# grid_parameters = {\n",
    "#     'feature_extract': list(feature_extract.keys()),\n",
    "#     'classifier': list(classifiers.keys()),\n",
    "# }\n",
    "# grid = ParameterGrid(grid_parameters)"
   ]
  },
  {
   "cell_type": "code",
   "execution_count": 58,
   "metadata": {
    "scrolled": true
   },
   "outputs": [
    {
     "name": "stdout",
     "output_type": "stream",
     "text": [
      "loaded result\n",
      "OVERRIDE\n",
      "Feature: CountVect   Clasifier: RandomForest   Key: CountVect-RandomForest\n",
      "Feature: CountVect-2gram   Clasifier: RandomForest   Key: CountVect-2gram-RandomForest\n",
      "Feature: CountVect-min_df-max_df   Clasifier: RandomForest   Key: CountVect-min_df-max_df-RandomForest\n",
      "Feature: CountVect-2gram-min_df-max_df   Clasifier: RandomForest   Key: CountVect-2gram-min_df-max_df-RandomForest\n",
      "Feature: TFIDF   Clasifier: RandomForest   Key: TFIDF-RandomForest\n",
      "Feature: TFIDF-2gram   Clasifier: RandomForest   Key: TFIDF-2gram-RandomForest\n",
      "Feature: TFIDF-min_df-max_df   Clasifier: RandomForest   Key: TFIDF-min_df-max_df-RandomForest\n",
      "Feature: TFIDF-2gram-min_df-max_df   Clasifier: RandomForest   Key: TFIDF-2gram-min_df-max_df-RandomForest\n",
      "Feature: CountVect   Clasifier: LinearSVC   Key: CountVect-LinearSVC\n",
      "Feature: CountVect-2gram   Clasifier: LinearSVC   Key: CountVect-2gram-LinearSVC\n",
      "Feature: CountVect-min_df-max_df   Clasifier: LinearSVC   Key: CountVect-min_df-max_df-LinearSVC\n",
      "Feature: CountVect-2gram-min_df-max_df   Clasifier: LinearSVC   Key: CountVect-2gram-min_df-max_df-LinearSVC\n",
      "Feature: TFIDF   Clasifier: LinearSVC   Key: TFIDF-LinearSVC\n",
      "Feature: TFIDF-2gram   Clasifier: LinearSVC   Key: TFIDF-2gram-LinearSVC\n",
      "Feature: TFIDF-min_df-max_df   Clasifier: LinearSVC   Key: TFIDF-min_df-max_df-LinearSVC\n",
      "Feature: TFIDF-2gram-min_df-max_df   Clasifier: LinearSVC   Key: TFIDF-2gram-min_df-max_df-LinearSVC\n",
      "Feature: CountVect   Clasifier: LogRegL1   Key: CountVect-LogRegL1\n",
      "Feature: CountVect-2gram   Clasifier: LogRegL1   Key: CountVect-2gram-LogRegL1\n",
      "Feature: CountVect-min_df-max_df   Clasifier: LogRegL1   Key: CountVect-min_df-max_df-LogRegL1\n",
      "Feature: CountVect-2gram-min_df-max_df   Clasifier: LogRegL1   Key: CountVect-2gram-min_df-max_df-LogRegL1\n",
      "Feature: TFIDF   Clasifier: LogRegL1   Key: TFIDF-LogRegL1\n",
      "Feature: TFIDF-2gram   Clasifier: LogRegL1   Key: TFIDF-2gram-LogRegL1\n",
      "Feature: TFIDF-min_df-max_df   Clasifier: LogRegL1   Key: TFIDF-min_df-max_df-LogRegL1\n",
      "Feature: TFIDF-2gram-min_df-max_df   Clasifier: LogRegL1   Key: TFIDF-2gram-min_df-max_df-LogRegL1\n",
      "Feature: CountVect   Clasifier: LogRegL2   Key: CountVect-LogRegL2\n",
      "Feature: CountVect-2gram   Clasifier: LogRegL2   Key: CountVect-2gram-LogRegL2\n",
      "Feature: CountVect-min_df-max_df   Clasifier: LogRegL2   Key: CountVect-min_df-max_df-LogRegL2\n",
      "Feature: CountVect-2gram-min_df-max_df   Clasifier: LogRegL2   Key: CountVect-2gram-min_df-max_df-LogRegL2\n",
      "Feature: TFIDF   Clasifier: LogRegL2   Key: TFIDF-LogRegL2\n",
      "Feature: TFIDF-2gram   Clasifier: LogRegL2   Key: TFIDF-2gram-LogRegL2\n",
      "Feature: TFIDF-min_df-max_df   Clasifier: LogRegL2   Key: TFIDF-min_df-max_df-LogRegL2\n",
      "Feature: TFIDF-2gram-min_df-max_df   Clasifier: LogRegL2   Key: TFIDF-2gram-min_df-max_df-LogRegL2\n"
     ]
    }
   ],
   "source": [
    "override=global_override or False\n",
    "debug=global_debug or False\n",
    "save_results_folder = 'results/'\n",
    "load_results_folder = 'results/'\n",
    "if not os.path.isdir(save_results_folder): os.mkdir(save_results_folder)\n",
    "clf_result, result = run_grid(grid, data_split, feature_extract, classifiers, clf_result, result, \n",
    "                              debug=debug, override=override, save_folder=save_results_folder, \n",
    "                             load_folder=load_results_folder)\n"
   ]
  },
  {
   "cell_type": "code",
   "execution_count": 59,
   "metadata": {
    "scrolled": false
   },
   "outputs": [
    {
     "name": "stdout",
     "output_type": "stream",
     "text": [
      "classifier: LogRegL1\n",
      "|    | feature_extract               |   accuracy |       f1 |   presicion |   recall |\n",
      "|---:|:------------------------------|-----------:|---------:|------------:|---------:|\n",
      "|  0 | CountVect                     |   0.905797 | 0.901515 |    0.908397 | 0.894737 |\n",
      "|  1 | CountVect-2gram               |   0.905797 | 0.901515 |    0.908397 | 0.894737 |\n",
      "|  2 | CountVect-min_df-max_df       |   0.905797 | 0.901515 |    0.908397 | 0.894737 |\n",
      "|  3 | CountVect-2gram-min_df-max_df |   0.905797 | 0.901515 |    0.908397 | 0.894737 |\n",
      "|  4 | TFIDF                         |   0.887681 | 0.883895 |    0.880597 | 0.887218 |\n",
      "|  5 | TFIDF-2gram                   |   0.887681 | 0.883895 |    0.880597 | 0.887218 |\n",
      "|  6 | TFIDF-min_df-max_df           |   0.887681 | 0.883895 |    0.880597 | 0.887218 |\n",
      "|  7 | TFIDF-2gram-min_df-max_df     |   0.887681 | 0.883895 |    0.880597 | 0.887218 |\n",
      "\n",
      "classifier: LinearSVC\n",
      "|    | feature_extract               |   accuracy |       f1 |   presicion |   recall |\n",
      "|---:|:------------------------------|-----------:|---------:|------------:|---------:|\n",
      "|  0 | TFIDF                         |   0.913043 | 0.911111 |    0.89781  | 0.924812 |\n",
      "|  1 | TFIDF-2gram                   |   0.913043 | 0.911111 |    0.89781  | 0.924812 |\n",
      "|  2 | TFIDF-min_df-max_df           |   0.913043 | 0.911111 |    0.89781  | 0.924812 |\n",
      "|  3 | TFIDF-2gram-min_df-max_df     |   0.913043 | 0.911111 |    0.89781  | 0.924812 |\n",
      "|  4 | CountVect                     |   0.902174 | 0.897338 |    0.907692 | 0.887218 |\n",
      "|  5 | CountVect-2gram               |   0.902174 | 0.897338 |    0.907692 | 0.887218 |\n",
      "|  6 | CountVect-2gram-min_df-max_df |   0.902174 | 0.897338 |    0.907692 | 0.887218 |\n",
      "|  7 | CountVect-min_df-max_df       |   0.898551 | 0.893939 |    0.900763 | 0.887218 |\n",
      "\n",
      "classifier: LogRegL2\n",
      "|    | feature_extract               |   accuracy |       f1 |   presicion |   recall |\n",
      "|---:|:------------------------------|-----------:|---------:|------------:|---------:|\n",
      "|  0 | TFIDF                         |   0.913043 | 0.911111 |    0.89781  | 0.924812 |\n",
      "|  1 | TFIDF-2gram                   |   0.913043 | 0.911111 |    0.89781  | 0.924812 |\n",
      "|  2 | TFIDF-min_df-max_df           |   0.913043 | 0.911111 |    0.89781  | 0.924812 |\n",
      "|  3 | TFIDF-2gram-min_df-max_df     |   0.913043 | 0.911111 |    0.89781  | 0.924812 |\n",
      "|  4 | CountVect                     |   0.905797 | 0.903704 |    0.890511 | 0.917293 |\n",
      "|  5 | CountVect-2gram               |   0.905797 | 0.903704 |    0.890511 | 0.917293 |\n",
      "|  6 | CountVect-min_df-max_df       |   0.905797 | 0.903704 |    0.890511 | 0.917293 |\n",
      "|  7 | CountVect-2gram-min_df-max_df |   0.905797 | 0.903704 |    0.890511 | 0.917293 |\n",
      "\n",
      "classifier: RandomForest\n",
      "|    | feature_extract               |   accuracy |       f1 |   presicion |   recall |\n",
      "|---:|:------------------------------|-----------:|---------:|------------:|---------:|\n",
      "|  0 | CountVect                     |   0.92029  | 0.921429 |    0.877551 | 0.969925 |\n",
      "|  1 | CountVect-2gram               |   0.90942  | 0.909747 |    0.875    | 0.947368 |\n",
      "|  2 | CountVect-2gram-min_df-max_df |   0.90942  | 0.909747 |    0.875    | 0.947368 |\n",
      "|  3 | TFIDF                         |   0.90942  | 0.908425 |    0.885714 | 0.932331 |\n",
      "|  4 | TFIDF-2gram                   |   0.90942  | 0.909747 |    0.875    | 0.947368 |\n",
      "|  5 | TFIDF-2gram-min_df-max_df     |   0.905797 | 0.906475 |    0.868966 | 0.947368 |\n",
      "|  6 | CountVect-min_df-max_df       |   0.894928 | 0.894545 |    0.866197 | 0.924812 |\n",
      "|  7 | TFIDF-min_df-max_df           |   0.894928 | 0.894545 |    0.866197 | 0.924812 |\n",
      "\n"
     ]
    }
   ],
   "source": [
    "parse_result(result, clf_result=clf_result, data=data_split)"
   ]
  },
  {
   "cell_type": "code",
   "execution_count": 22,
   "metadata": {
    "scrolled": false
   },
   "outputs": [
    {
     "name": "stdout",
     "output_type": "stream",
     "text": [
      "classifier: LogRegL1\n",
      "|    | feature_extract               |   accuracy |\n",
      "|---:|:------------------------------|-----------:|\n",
      "|  0 | TFIDF                         |   0.927798 |\n",
      "|  1 | TFIDF-2gram                   |   0.927798 |\n",
      "|  2 | TFIDF-min_df-max_df           |   0.927798 |\n",
      "|  3 | TFIDF-2gram-min_df-max_df     |   0.927798 |\n",
      "|  4 | CountVect                     |   0.916968 |\n",
      "|  5 | CountVect-2gram               |   0.913357 |\n",
      "|  6 | CountVect-min_df-max_df       |   0.913357 |\n",
      "|  7 | CountVect-2gram-min_df-max_df |   0.913357 |\n",
      "\n",
      "classifier: LinearSVC\n",
      "|    | feature_extract               |   accuracy |\n",
      "|---:|:------------------------------|-----------:|\n",
      "|  0 | TFIDF                         |   0.942238 |\n",
      "|  1 | TFIDF-2gram                   |   0.942238 |\n",
      "|  2 | TFIDF-min_df-max_df           |   0.942238 |\n",
      "|  3 | TFIDF-2gram-min_df-max_df     |   0.942238 |\n",
      "|  4 | CountVect-2gram               |   0.902527 |\n",
      "|  5 | CountVect                     |   0.898917 |\n",
      "|  6 | CountVect-min_df-max_df       |   0.898917 |\n",
      "|  7 | CountVect-2gram-min_df-max_df |   0.898917 |\n",
      "\n",
      "classifier: LogRegL2\n",
      "|    | feature_extract               |   accuracy |\n",
      "|---:|:------------------------------|-----------:|\n",
      "|  0 | TFIDF                         |   0.920578 |\n",
      "|  1 | TFIDF-2gram                   |   0.920578 |\n",
      "|  2 | TFIDF-min_df-max_df           |   0.920578 |\n",
      "|  3 | TFIDF-2gram-min_df-max_df     |   0.920578 |\n",
      "|  4 | CountVect                     |   0.913357 |\n",
      "|  5 | CountVect-2gram               |   0.913357 |\n",
      "|  6 | CountVect-min_df-max_df       |   0.913357 |\n",
      "|  7 | CountVect-2gram-min_df-max_df |   0.913357 |\n",
      "\n",
      "classifier: RandomForest\n",
      "|    | feature_extract               |   accuracy |\n",
      "|---:|:------------------------------|-----------:|\n",
      "|  0 | TFIDF-2gram-min_df-max_df     |   0.927798 |\n",
      "|  1 | TFIDF-2gram                   |   0.916968 |\n",
      "|  2 | CountVect                     |   0.913357 |\n",
      "|  3 | TFIDF-min_df-max_df           |   0.913357 |\n",
      "|  4 | TFIDF                         |   0.906137 |\n",
      "|  5 | CountVect-min_df-max_df       |   0.898917 |\n",
      "|  6 | CountVect-2gram               |   0.891697 |\n",
      "|  7 | CountVect-2gram-min_df-max_df |   0.891697 |\n",
      "\n"
     ]
    }
   ],
   "source": [
    "parse_result(result, 0.94)"
   ]
  },
  {
   "cell_type": "markdown",
   "metadata": {},
   "source": [
    "### TFIDF-LinearSVC"
   ]
  },
  {
   "cell_type": "code",
   "execution_count": 22,
   "metadata": {
    "scrolled": true
   },
   "outputs": [
    {
     "data": {
      "image/png": "[encoded data removed]",
      "text/plain": [
       "<Figure size 576x432 with 2 Axes>"
      ]
     },
     "metadata": {
      "needs_background": "light"
     },
     "output_type": "display_data"
    },
    {
     "name": "stdout",
     "output_type": "stream",
     "text": [
      "[[135   9]\n",
      " [  7 126]]\n",
      "              precision    recall  f1-score   support\n",
      "\n",
      "           0       0.95      0.94      0.94       144\n",
      "           1       0.93      0.95      0.94       133\n",
      "\n",
      "    accuracy                           0.94       277\n",
      "   macro avg       0.94      0.94      0.94       277\n",
      "weighted avg       0.94      0.94      0.94       277\n",
      "\n",
      "Labelled: False \tPredicted: True\n",
      "florida towns told residents remain vigilant despite forecasts might dodge dorian landfall tropical storm watch issued state south atlantic coast communities northeast florida georgia south carolina raised alert levels residents filling sandbags authorities tested infrastructure hurricane drills south carolina saturday joined georgia north carolina florida declaring state emergency bahamas prime minister hubert minnis begged residents abaco grand bahamas head main island escape devastating dangerous storm want remember homes houses structures replaced lives cannot replaced minnis told news conference adding people homes risk storm surges feet meters national hurricane centre said dorian packing maximum sustained winds would bahamas sunday feet rainfall places threatening deadly flash floods dorian could veer northwest possibly remain moved eastern seaboard late monday tuesday said tropical storm watch issued mile stretch florida coast deerfield beach around palm meaning sustained winds possible within hours north carolina authorities warned residents dorian heading counterparts florida told towns remain alert obviously better forecast assume going hazardous weather said miami beach mayor gelber bahamas sunday central florida towns urged residents remain alert past hurricanes like andrew slammed bahamas barrelled straight peninsula southeast coast start taking shutters start disassembling emergency plan said eric flowers spokesman sheriff office indian river county tybee island georgia coastal barrier island authorities sand sandbags protect possible flooding marshy area biggest concern storm surge tides really high right said manager local restaurant asked named authorised speak media north dorchester county south carolina raised alert level make sure infrastructure public safety crews ready hurricane area near historic city charleston north carolina emergency management ncema said storm forecast keep moving state direction next hours time prepare assemble disaster supplies said katie webster ncema meteorologist urging people prepare week supply food water\n",
      "\n",
      "Labelled: False \tPredicted: True\n",
      "metre stretch embankment water development board washed away southkhali union sarankhola upazila yesterday moreover huge cracks developed least points within half kilometres embankment bogi bazar gabtala bazar area high tide water enters breaches embankment built coastal embankment improvement project ceip funded world bank result cropland houses fish enclosures ponds area flooded regular basis locals alleged authorities given priority less vulnerable points embankment neglected vulnerable ones near baleshwar river southkhali union parishad chairman mozammel hossain said order make kilometre long embankment sustainable sidr aila affected areas chinese company named chwe started work january cost around crore however work much risky areas bogi gabtala north southkhali south southkhali rayenda sections sarankhola upazila added chairman expressed frustration project saying much hope upazila nirbahi officer lincoln biswas said authorities asked take immediate action protect embankment engineer shyamal dutta ceip said working points embankment strong bogi gabtala bazar areas beginning project embankment experienced collapse trying protect areas building ring dams using soil sacks urgent basis added\n",
      "\n",
      "Labelled: False \tPredicted: True\n",
      "disaster management relief secretary shah kamal revealed information speaking media drill disaster preparedness refugee camp ukhia saturday said families taken shelter bazar families danger natural disasters like flood cyclone landslide monsoon said government already relocated families safer places took necessary steps tackle disasters\n",
      "\n",
      "Labelled: True \tPredicted: False\n",
      "hundreds people fled homes kashmir main rivers began swell weather forecasters predicted downpours region struck devastating floods seven months hillside collapsed onto house village miles capital srinagar three families sleeping monday morning according mushtaq ahmad neighbor army police used diggers shovels locate survivors huge landslide entire house covered earth ahmad said chance finding everyone alive unlikely local police superintendent fayaz ahmad lone said people buried house village ledhan locals said number could higher india experiencing extreme rainfall events global climate warms study years data indian institute tropical meteorology concluded year march wettest month century wrecking millions hectares winter crops crop damage blamed spate rural suicides recent weeks september kashmir valley suffered worst flooding century killing people displacing almost million weeks misery added problems muslim majority state revolt indian rule simmered quarter century kashmir divided india pakistan claimed full countries weather officials said heavy showers would occur isolated places kashmir next couple days although intensity rain likely diminish state received surplus rainfall thirds districts month monday kashmiri government declared flood alert asked people living near river jhelum flowsthrough srinagar leave homes government established relief camps forced flee mujeeb ahmad doctor left family sunday evening last year family caught floods rescued four days ahmad said want take chances\n",
      "\n",
      "Labelled: False \tPredicted: True\n",
      "tuesday july heavy rains lash bangladesh offing heavy monsoon showers lashed parts bangladesh past hours southern areas country particular observed significant rainfall activity span hours friday feni received rain bazar recorded rain also sitakundu observed rain kutubdia jassore rangamati mungla ishurdi fresh cyclonic circulation formed north bengal extending upper tropospheric levels system likely move west northwest direction furthermore circulation widesprain rain moderate intensity occur south bangladesh south west bengal along parts north odisha heavy rains continue bangladesh longer duration lead flood like situation region rivers already flowing close anger mark rain lead addition water levels\n",
      "\n",
      "Labelled: False \tPredicted: True\n",
      "heavy heavy rain different parts country especially hills sylhet chittagong hill tracts trigger landslides today office warned rain forced active monsoon continue intermittently wednesday heavy showers onrush water hills across border already swelled jadukata river sunamganj flowing danger level yesterday morning supplememted already swollen surma sunamganj flowing overflowing banks threatening locals second spell flooding within couple months surma carrying extra load water barak river manipur north eastern india rising steadily might still continue rise next hours flood forecasting warning centre ffwc said yesterday brahmaputra jamuna ganges padma likely rise heavy rain acorss country howver kushiyara river become steady next hours ffwc stated river situation report yesterday surma kushiyara wreaked havoc along vast area sylhet sunamganj maulvibazar june time river swollen water haors spilled banks ffwc said ganges brahmaputra shot padma jamuna likely rise next hours meanwhile sitakunda lashed overnight rain highest country recorded rain till noon much rain recorded rangamati raising fears landslides among living hills\n",
      "\n",
      "Labelled: False \tPredicted: True\n",
      "tuesday july houses satkhira destroyed severe cyclonic storm bulbul coastal area early sunday according media report strong wind continuing since saturday night three clock thousands trees uprooted coastal area shyamnagar upazila district shymnagar upazila agriculture officer abul hossain said aman paddy cultivated hectares land unions heavy rains caused massive loss percent aman crop\n",
      "\n",
      "Labelled: True \tPredicted: False\n",
      "promise waterlogging next year lgrd cooperatives minister khandker mosharraf hossain said july last year city million dhaka almost certain water moderate rain late last month much capital inundated following little moderate shower causing public misery city needs efficient drainage network unobstructed canals free flood zones around save perennial waterlogging past months since minister made promise city authorities routine clean scanty drainage network remains half done apart initiative taken free canals floodplains within city grabbers multiple development works different parts capital worsened situation works include road improvement uttara construction metro rail piers along rokeya sarani relocation underground utility service lines along kazi nazrul islam avenue july last year local government rural development cooperatives minister khandker mosharraf hossain said waterlogging dhaka city would recur government learnt lesson following promise dhaka water supply sewerage authority wasa asked additional allocation cleaning canals said wasa adviser abul kashem response current fiscal year drawing close revised amount money released mahbubul alam director general local government division said requested finance ministry additional allocations exactly know rationale delay said think wasa money asked wasa would money last moment monsoon almost alam said spend much return rest keep next year contacted wasa managing director taqsem khan said taking routine piecemeal measures cleaning scanty artificial drainage lines maintaining pump machines pump accumulated rainwater flood flow zones canals lying water retention areas earmarked detailed area plan conservation destroyed make real estate business development leading today deplorable drainage situation said dhaka city storm drainage problem cannot permanently solved without reclaiming designated flood flow zones water retention areas noted hand ground percolation means rainwater management also made difficult percent sqkm wasa area city paved concrete ministry usually allocates wasa allocation around every monsoon money needed routine cleaning maintenance wasa drainage service said shahid uddin former wasa chief engineer currently contractual wasa director said wanted excavate length canals within month enhance water passage capacity started work places hoped extra allocations apart wasa authorities deal dhaka drainage system piecemeal basis without much knowledge city corporations water development board rajuk cantonment board private housing developers like bashundhara result dhaka plunges nightmare public misery every time normal monsoon shower instantly floods city roads town planners city corporations maintain feeder drains open small diameter pipes drain water homes rainwater take canals wide diameter wasa storm sewer system government made storm drainage master plan dhaka could implemented assign authority officials said wasa storm drainage pipelines diameter covers fifth sqkm service area present rainfall time dhaka city floods city water takes least three hours recede available pumping facility drain rain according officials rain water supposed carried away instantly lying retention areas well networked storm drainage system network destroyed artificial pipelines clogged solid wastes takes hours rainwater pass wasa maintains canals long part storm drainage system mostly remain clogged uncollected solid wastes canals turned concrete culverts build roads significantly reducing capacity carry water according leading urban planners lying wetlands flood flow zones storm water retention ponds ditches canals filled name development blocked natural passage monsoon rainwater time authorities warned grim consequence urban storm water management paid heed according flood action plan city conserved acres water retention area percent sqkm dhaka master plan acres canals rivers percent acres percent flood flow zones surviving city canals illegal occupation government taken project land acquisition excavation five canals ease capital waterlogging problem five canals hazaribagh baishteki sangbadaik colony begunbari manda khal across south north dhaka cities canals public property percent money spent acquisition acres private land rest compensation structures excavation bank development executive committee national economic council prime minister sheikh hasina chair approved draft proposal april local government ministry proposed year scheme implemented dhaka wasa december next year\n",
      "\n",
      "Labelled: True \tPredicted: False\n",
      "cyclone amphan made landfall last evening india orissa coast adverse affect cyclonic storm seen coastal regions bangladesh near indian border compilation photos locals seen fixing riverbanks khulna dacop region prevent flooding surge water level\n",
      "\n",
      "Labelled: True \tPredicted: False\n",
      "around people villages sadar jaldhaka upazilas district suffering around three years construction bridge burikhora river important ramnagar mirganj road completed work bridge stopped construction firm withdrew workers around three months sadar upazila engineer local government engineering department lged saiful islam said bridge washed away flood floated tender build foot long foot wide concrete bridge cost crore local firm messrs mofakkharul islam work order november complete within years visiting site january correspondent found girders wing walls three pairs pillars completed railings sides bridge still incomplete labourers masons present site added upazila engineer said percent work completed contractor build approach roads dumped sand ends bridge added locals said made bamboo bridge side bikes rickshaw vans cross risky people sometimes fall hurt tafser area said biker laxmikanta injured slipped risky makeshift bridge fell dried river last week undergoing treatment rangpur medical college hospital tafser added giriza prosonna resident schoolteacher said contractor took workers work another site leaving bridge incomplete compelled bring groceries trucks travelling additional said abdus sattar grocer nearby bahalipara market wahidul islam headmaster ramnagar high school said five schools sides river many students cannot attend classes rainy season want bridge contractor mofakhkharul islam mamun refuted allegatiosn alleging people stopped construction claiming land belongs initially locals donated land build bridge approach roads demanding compensation cannot give government allocated money want solve problems help elected public representatives said belal hossain executive engineer district lged\n",
      "\n",
      "Labelled: True \tPredicted: False\n",
      "news summary sunday international talks northwest pacific safety made progress unpublicized negotiations united states soviet union japan reagan administration officials said negotiations aimed preventing repetition downing south korean airliner soviet fighter latest round ended friday moscow russians requested little publicity possible page column kuwait leader escaped death suicide driver rammed bomb laden motorcade kuwaiti officials reported said driver died bodyguards passer also killed caller saying represented terrorist group known islamic holy claimed responsibility pope installed cardinals colorful ceremony held outdoors rome among elevated archbishops world largest roman catholic dioceses archbishop john connor york among battle palestinian districts spread beirut area eastern lebanon fighting went seventh police reported four people killed palestinian guerrillas clashed militamen amal mainstream shiite moslem movement baalbek area bekaa region miles east beirut hundreds people killed hurricane struck southern coast bangladesh offshore islands unofficial report death toll noakhali district east side mouth ganges river nationwide officials feared final estimates would much higher national overflow great lakes shrinking beaches covering piers flooding roads causing worries tourism home values great lakes world largest body fresh water highest levels history heavy precipitation last fall winter responsible unusually high levels inches feet normal officials expect levels continue rise june perhaps summer white dominate leadership state advisory committees serve united states commission civil rights according commission figures appointees among members advisory panels preliminary racial breakdown found chairmen white white chairmen former panels talks broke united airlines striking pilots reached tentative agreement basic economic issues became deadlocked troublesome back work provisions navy yeoman accused spying father soviet union returned duty united states investigators assessed damage might done national security michael walker yeoman third class charged smuggling secret documents aircraft carrier nimitz father retired navy communications officer metropolitan scientists columbia university retracting studies scientific journals results wrong committee headed nobel prize recipient investigating situation said could neither prove rule deliberate fabrication data nassau county police test prepared educational testing service princeton rejected justice department nassau trying develop police test since government charged existing test discriminated minorities women\n",
      "\n",
      "Labelled: False \tPredicted: True\n",
      "bangladesh water development board bwdb today forecasted flash flood haor regions sunamganj sylhet india meteorological department predicted excessive rainfall north eastern part bangladesh bordering areas india april flood forecast warning centre ffwc bwdb issued forecast notice regard official website today reports sylhet correspondent talking correspondent arifuzzaman bhuiyan executive engineer ffwc dhaka said india meteorological department forecasted millimetre rain meghalaya barak valley india millimetre tripura valley india rainfall might occur april moreover rain north eastern part bangladesh following forecast rainfall predicting water major rivers meghna basin rise promptly small rivers might flow danger level forecasting possible flash flood region said taking forecast consideration sunamganj deputy commissioner mohammad abdul ahad today circulated notice harvest boro paddy soon possible flash flood hits haor region notice ordered project implementation committees strictly monitor conditions dykes constructed kajer binimoye taka kabita protect boro harvest haor year kilometres rehabilitation work levees haors completed projects district spending around crore according department agriculture extension boro paddy cultivated hectares land sunamganj year last year cultivation area hectares\n",
      "\n",
      "Labelled: False \tPredicted: True\n",
      "hectares square miles land lost roughly area chicago biggest cities erosion caused padma river since according august report nasa earth observatory space agency focuses planet live numerous farms houses lives lost displaced recent decades riverbank erosion swallow large chunks shore every year hundreds sometimes thousands hectares land erode fall river report says extreme erosion patterns padma main causes first natural free flowing river little bank protection occasional sandbags protect buildings second bank sits large sand eroded quickly scientists measure erosion river noting differences width depth shape overall appearance satellite images nasa report padma river shape erosion compares natural colour satellite images showing changes shape width river since twist zigzag said tell different geologic story river images acquired nasa landsat satellites images acquired january february season years researchers observed increase river sinuosity braiding sinuosity tendency river snake back forth shape across plain rivers high sinuosity labeled meandering rivers said evolve flow wears away outer edges widening channel flow inner edge less energy allowing sediment deposited sometimes meandering rivers leave scars water flowed seen image harirampur region manikganj sediments come variety sources theory suggests sediments remnants landslide triggered earthquake researchers think coarser material like sand took half century pass river past three decades river changed relatively narrow straight line meandering braided recently back straight image sequence noticeable change occurs upstream near harirampur upazila region experienced erosion large flood rose banks exacerbated opening farakka barrage india released water bangladesh according report downstream meandering bends eroded land near char janajat river curves became extreme curve started develop began decline since disappeared researchers particularly interested char janajat area site bridge crossing bangladesh biggest construction projects padma river bridge connect eastern western parts country shorten travel times locations thirteen hours three concerns erosion could threaten construction bridge although researchers believe could actually stabilise land reduce erosion finished report says recent years padma erosion rates sinuosity braiding actually decreased erosion said slowed meandering bends disappeared sedimentation mean area free erosion disturbance ecosystem floods landslides construction could influence morphology river report mentions\n",
      "\n",
      "Labelled: True \tPredicted: False\n",
      "rangpur reported three covid cases malaysia returnee rangpur badargonj upazila tested positive coronavirus covid making first case upazila badargonj upazila nirbahi officer nabirul islam confirmed matter dhaka tribune around wednesday year returned malaysia upazila recently went narayanganj stayed month days came back narayanganj started suffering fever cough respiratory problems prompting health authorities collect samples later sent rangpur medical college hospital testing wednesday reports came back positive said nabirul islam also added houses around patient residence residential quarter badargonj upazila health complex brother lives lockdown rangpur reported three covid cases according health authorities\n",
      "\n",
      "Labelled: False \tPredicted: True\n",
      "severe cyclonic storm fani centred west bengal nearly people eastern india evacuated path incoming major cyclone packing winds gusting hour torrential rains officials told thursday indian weather service said extremely severe cyclonic storm fani expected make landfall friday afternoon odisha state barrel north eastwards towards bangladesh pathway home million people total million people expected evacuated lying areas districts eastern state odisha cyclone shelters schools buildings authorities said reports reuters along extremely heavy rainfall places storm surge likely inundate lying areas odisha according indian meterological department cyclone fanicyclone india strongest summertime cyclone last years likely odisha coast friday afternoon twitter jfhvcz state relief department official told people moved safer places overnight least districts odisha home million people bear brunt storm expecting million people move danger zone next hours bishnupada sethi odisha special relief commissioner told shelters schools government buildings accommodate million people food packets ready dropped needed reports said thursday storm reports said biggest eastern india nearly decades brewing bengal moving steadily ominously towards shore predicted pack sustained wind speeds gusts equivalent strength category hurricane expected make landfall near hindu holy town puri major tourist hotspot trains cancelled past hours according indian railways three special trains running puri evacuate pilgrims tourists authorities asked tourists leave coastal areas avoid unnecessary travel special buses deployed puri towns dozens officials making announcements hand held megaphones across coastal belt asking residents leave homes extremely severe cyclone fani path slam eastern india friday odisha yellow alert speed wind reach twitter yghglfaylw odisha fani predicted head north towards state west bengal towards bangladesh authorities already preparing thursday coastal states south odisha like andhra pradesh home million people tamil nadu population million also standby fishermen advised venture indian navy also alert kolkata airport shutdown flights kolkata netaji subhas chandra bose international airport cancelled friday till saturday cyclone fani expected make landfall tomorrow morning flights odisha capital bhubaneswar already cancelled midnight extremely severe cyclone nears state coast south temple town puri airports authority india also issued advisory coastal airports take adequate precautions india biggest producer ongc evacuated close employees offshore installations moved drilling rigs safer locations press trust india reported heavy rains expected coastal districts amid fears flash floods geared challenge said sethi total destruction forecasters warned total destruction thatched houses bending uprooting power communication poles flooding escape routes damage crops areas bangladesh disaster management chief mohammad hashim said cyclone shelters opened coastal districts country weather bureau told deep fishing vessels stay near coast inland water transport activities suspended coastal area farmers bangladesh instructed harvest paddy fields surging tide inundate ruin crops fani fourth major storm slam india east coast three decades last cyclone ockhi left nearly people dead missing tamil nadu kerala worst cyclone record odisha killed almost people caused estimated billion worth devastation\n",
      "\n",
      "Labelled: True \tPredicted: False\n",
      "dhaka city experiences deluge every time rains heavily every time major floods occur country every time rains city dhaka faces acute drainage problem parts city water densely populated city woes people know bounds devastating floods occurred submerging percent country along country dhaka city except pockets high spots went various depths water flood water city eastern western parts however earlier years eastern western parts city mostly agricultural lowlands human habitation flood damage remained confined city proper huge suffering people today eastern part spite huge investment years particularly floods almost whole city dhaka went water floods appeared devastating dhaka city drainage situation aggravated silted blocked drainage channels wasa limited storm water drainage inadequate city sqkm greater dhaka causes problems causes floods drainage problem vary different zones areas city depending topography elevation high proximity rivers peculiar areas like housing estates main causes floods city river floods runoff rainfall river floods rivers surrounding city like sitalakhya buriganga turag tongi balu cause floods city year lying areas eastern part greater dhaka city heavily flooded point reasons proposed flood protection eastern embankment bypass constructed western flood protection embankment protected uttara airport nikunja areas floods turag buriganga rainfall drainage system city channels encroached upon land grabbers choked filled illegal dumping solid construction wastes water logging occurs around city former flowing living channels existent even large ones like begunbari channel either encroached upon outfall closed consequence runoff cannot flow used even gulshan banani baridhara uttara lakes blocked outfall many channels eastern dhaka south badda khilgaon bashaboo shahjahanpur jatrabari partly full occupied unauthorised illegal structures channels improved heavy runoff quickly flow outside city housing estates gulshan banani baridhara uttara perhaps satellite towns like bashundhara asian city amin group relatively higher lands runoff thus flows lakes incidentally work buffer flood control reservoirs except pockets transient water logging areas waters quickly drained eastern part eastern area city heavily affected river floods also runoff flood water standing river levels remain high strongly suggests pumping flood runoff waters eastern embankment would constructed similar pumping necessary western embankment area city city affected runoff form rainfall numerous pockets remain water logged drainage channels built water flows improved channels flood situation improve wasa also help storm water drains necessary open drains difficult congestion area unique situation location water logging project earliest irrigation projects dhaka demra narayanganj project built epwapda bwdb project meant producing rice crops irrigation recent years agricultural lands purchased illegally acquired residential canals encroached upon irrigation drainage channels encroached upon influential people heavy downpour june whole dhaka city adjoining areas flooded drainage channels closed project area fully water logged another reason level outfall drainage channels natural drainage possible higher level water river sitalakhya result water needed pumped sometimes pumps remain order bwdb keep pumps good working condition times unconventional causes though unconventional causes like slow subsidence ground surface general occur long period time deserve serious consideration gradual subsidence many years might turn serious magnitude dimension happen natural made causes natural process soil erosion anytime heavy rainfall occurs erodes soil city area ceaselessly rainfall caused erosion sediment transported away runoff adjoining rivers bounding city rills small channels proper contour survey available later years compared magnitude erosion consequently lowering ground surface level subsidence made causes causes land susbidence subsidence pumping continuous pumping hundreds deep tubewells ground water level dhaka city falling mentioned continuous pumping tamil nadu gujrat states india ground water dried millions tubewells irrigation yielding rain agriculture practice drinking water brought large affected area hundreds thousands trucks daily ascertain difference ground level years estimate evidence extent subsidence groundwater aquifer aquifer water holding stratum layer soils consists trillions water filled voids pumping continues years voids depleted water result overhead soil pressure empty voids contracted accentuate subsidence though long term process happen worth investigation studies high rise buildings last years thousands high rise buildings constructed dhaka though developers generally take good care foundation design considering bearing capacity versus subsidence thousands multi storied buildings privately constructed doubt whether took care foundation design adequately years come global effect millions tons imposed weight surface cause subsidence soft alluvial sedimentary soils underlying city storey residential building katha weigh tons learned geologists foundation engineers might answer answer emphatic concern three causes particularly made ones might look speculative moment serious investigations comprehensive relevant surveys intensive studies might obtain suitable answer june rainfall analyse rainfall june occurred duration hours midnight total rainfall abut greater dhaka area preliminary estimate shows flow discharge generated greater dhaka metropolitan area figures designed discharge canals bottom width deep side slope slope canals bottom width designed drainage greater dhaka city trapezoidal channels various capacities required achieve drainage city begunbari channel takes dhanmondi lake mirpur road blocked near panthapath crossing perhaps blocked roads notable nazrul islam avenue sonargaon hotel resurfaced behind hotel illegal structures multi storey buildings constructed sonargaon hotel crossing shahid tajuddin road tejgaon road channel veers north eastward meeting combined drainage channels gulshan banani lake mohakhali drainage channel point south gulshan lake moves east southeastwards meeting north south channel areas south badda moves eastward proposed eastern bypass begunbari channel main drainage channel city larger dimension longer stretch moves west east draining crowded parts city tejgaon mohakhali kawran bazar panthapath banani gulshan open areas east green road farmgate area width proper designed dimensions carry discharge total runoff generated june rainfall begunbari appears large catchments also drains entire badda rampura khilgaon areas open areas east sides begunbari feeder channels mohakhali banani gulshan lake north south canal meeting bagunbari excavated improved begunbari channel acts like drainage divide north south metropolitan area another divide existed city filled dholai khal channel west east dividing city drainage canal north south contour plan begunbari catchment characteristics channel catchment plan synthetic unit hydrograph drawn using maximum daily rainfall data years unit hydrograph peak flood years years years frequency versus depths determined design channels similar methods used channels zones areas recommendations master plan master plan dhaka city drainage prepared experienced consulting engineering firm national committee composed experts relevant organisations guide oversee activities firm whole city divided drainage zones according topography location eastern bypass embankment east city eastern bypass constructed quickly possible eastern bypass delayed master plan city continue suffer western embankment delayed master plan cleaning canals silted choked channels large medium small excavated made efficient drainage rain water moribund channels cleared designed carry runoff channels outlined earlier open area drainage drainage channels open areas city existing west proposed eastern bypass designed carry flow evacuate embankment sluices points pumping required design pumps pump houses embankment embankment along buriganga southern side strengthened order prevent river floods drains carry runoff rainfall protection future grabbing excavated cleared existing closed blocked channels protected future grabbing enacting strict laws necessary drainage drainage channels project area cleared made efficient carry runoff pump house made efficient repaired necessary water logging area made artificial creation multi disciplinary national committee multi disciplinary national committee composed experts relevant organisations formed find causes effects floods drainage problems city greater dhaka metropolitan area outline preventive regulation measures committee assist selection experienced consulting company committee prepare draft consultants committee continue guide oversee activities consultants tenure writer professor civil engineering world university bangladesh dhaka water specialist formerly world bank washington planning commission\n",
      "\n"
     ]
    }
   ],
   "source": [
    "# tn, fp\n",
    "# fn, tp\n",
    "temp_df = compare_result(clf_result, data_split, 'TFIDF-LinearSVC')\n",
    "for row in temp_df.loc[temp_df['is_flood']!=temp_df['predict']].iterrows():\n",
    "    print('Labelled:',bool(row[1]['is_flood']),'\\tPredicted:',bool(row[1]['predict']))\n",
    "    print(row[1]['text'])\n",
    "    print()"
   ]
  },
  {
   "cell_type": "code",
   "execution_count": 23,
   "metadata": {},
   "outputs": [
    {
     "data": {
      "text/plain": [
       "[('said', 66.47829495326106),\n",
       " ('water', 55.94458669079924),\n",
       " ('people', 42.732137181639686),\n",
       " ('flood', 39.233742880001614),\n",
       " ('river', 31.869304782457235),\n",
       " ('upazila', 31.547743926481004),\n",
       " ('bangladesh', 31.117933777348796),\n",
       " ('district', 26.46347356493227),\n",
       " ('areas', 24.573875963687872),\n",
       " ('level', 24.52928069899863)]"
      ]
     },
     "execution_count": 23,
     "metadata": {},
     "output_type": "execute_result"
    }
   ],
   "source": [
    "# TFIDF Features\n",
    "from collections import Counter\n",
    "fe = clf_result['TFIDF-LinearSVC']['feature']\n",
    "X = fe.transform(list(data_split['train']['text']))\n",
    "vocab = list(fe.get_feature_names())\n",
    "counts = X.sum(axis=0).A1\n",
    "freq_dist = Counter(dict(zip(vocab, counts)))\n",
    "freq_dist.most_common(10)"
   ]
  },
  {
   "cell_type": "markdown",
   "metadata": {},
   "source": [
    "## Different test data graphs"
   ]
  },
  {
   "cell_type": "code",
   "execution_count": 23,
   "metadata": {},
   "outputs": [],
   "source": [
    "vocab = make_vocab(data_split)\n",
    "feature_extract = {\n",
    "    'TFIDF': {\n",
    "        'classifier_type': 'TFIDF',\n",
    "        'method': TfidfVectorizer,\n",
    "        'params': {\n",
    "            'tokenizer': word_tokenize,\n",
    "            'stop_words': 'english',\n",
    "            'vocabulary': vocab,\n",
    "            'ngram_range':(1,2),\n",
    "            'min_df': 0.05,\n",
    "            'max_df': 0.95\n",
    "        }\n",
    "    },\n",
    "}\n",
    "\n",
    "classifiers = {\n",
    "    'LinearSVC': {\n",
    "        'classifier_type': 'Linear SVC',\n",
    "        'method': LinearSVC,\n",
    "        'params':{\n",
    "            'class_weight':'balanced'\n",
    "        }\n",
    "    },\n",
    "    'LogRegL1':{\n",
    "        'classifier_type': 'Logistic Regression L1',\n",
    "        'method': LogisticRegression,\n",
    "        'params':{\n",
    "            'penalty': 'l1',\n",
    "            'class_weight':'balanced',\n",
    "            'solver': 'liblinear',\n",
    "            'max_iter': 1000\n",
    "        }\n",
    "    },\n",
    "    'LogRegL2':{\n",
    "        'classifier_type': 'Logistic Regression L2',\n",
    "        'method': LogisticRegression,\n",
    "        'params':{\n",
    "            'penalty': 'l2',\n",
    "            'class_weight':'balanced',\n",
    "            'solver': 'liblinear',\n",
    "            'max_iter': 1000\n",
    "        }\n",
    "    },\n",
    "    'RandomForest': {\n",
    "        'classifier_type':'Random Forest ',\n",
    "        'method': RandomForestClassifier,\n",
    "        'params':{\n",
    "            'class_weight':'balanced'\n",
    "        }\n",
    "    },\n",
    "}\n",
    "\n",
    "grid_parameters = {\n",
    "    'feature_extract': list(feature_extract.keys()),\n",
    "    'classifier': list(classifiers.keys()),\n",
    "}\n",
    "\n",
    "grid = ParameterGrid(grid_parameters)"
   ]
  },
  {
   "cell_type": "code",
   "execution_count": 50,
   "metadata": {},
   "outputs": [],
   "source": [
    "# feature = make_method(feature_extract, 'TFIDF')\n",
    "# all_X = df_data['text']\n",
    "# all_Y = df_data['is_flood']\n",
    "# vect = feature.fit(all_X)\n",
    "# x, y = vect.transform(list(all_X)), [1 if t else 0 for t in all_Y]\n",
    "# clf = make_method(classifiers, 'LinearSVC')\n",
    "# cross_validate(clf, x, y, cv=5,\n",
    "#               scoring=('accuracy', 'precision', 'recall', 'f1'))"
   ]
  },
  {
   "cell_type": "code",
   "execution_count": 131,
   "metadata": {
    "scrolled": true
   },
   "outputs": [
    {
     "name": "stdout",
     "output_type": "stream",
     "text": [
      "Data Loaded\n",
      "10 270\n",
      "OVERRIDE\n",
      "Feature: TFIDF   Clasifier: LinearSVC   Key: TFIDF-LinearSVC\n",
      "Feature: TFIDF   Clasifier: LogRegL1   Key: TFIDF-LogRegL1\n",
      "Feature: TFIDF   Clasifier: LogRegL2   Key: TFIDF-LogRegL2\n",
      "Data Loaded\n",
      "20 270\n",
      "OVERRIDE\n",
      "Feature: TFIDF   Clasifier: LinearSVC   Key: TFIDF-LinearSVC\n",
      "Feature: TFIDF   Clasifier: LogRegL1   Key: TFIDF-LogRegL1\n",
      "Feature: TFIDF   Clasifier: LogRegL2   Key: TFIDF-LogRegL2\n",
      "Data Loaded\n",
      "50 270\n",
      "OVERRIDE\n",
      "Feature: TFIDF   Clasifier: LinearSVC   Key: TFIDF-LinearSVC\n",
      "Feature: TFIDF   Clasifier: LogRegL1   Key: TFIDF-LogRegL1\n",
      "Feature: TFIDF   Clasifier: LogRegL2   Key: TFIDF-LogRegL2\n",
      "Data Loaded\n",
      "100 270\n",
      "OVERRIDE\n",
      "Feature: TFIDF   Clasifier: LinearSVC   Key: TFIDF-LinearSVC\n",
      "Feature: TFIDF   Clasifier: LogRegL1   Key: TFIDF-LogRegL1\n",
      "Feature: TFIDF   Clasifier: LogRegL2   Key: TFIDF-LogRegL2\n",
      "Data Loaded\n",
      "200 270\n",
      "OVERRIDE\n",
      "Feature: TFIDF   Clasifier: LinearSVC   Key: TFIDF-LinearSVC\n",
      "Feature: TFIDF   Clasifier: LogRegL1   Key: TFIDF-LogRegL1\n",
      "Feature: TFIDF   Clasifier: LogRegL2   Key: TFIDF-LogRegL2\n",
      "Data Loaded\n",
      "500 270\n",
      "OVERRIDE\n",
      "Feature: TFIDF   Clasifier: LinearSVC   Key: TFIDF-LinearSVC\n",
      "Feature: TFIDF   Clasifier: LogRegL1   Key: TFIDF-LogRegL1\n",
      "Feature: TFIDF   Clasifier: LogRegL2   Key: TFIDF-LogRegL2\n",
      "Data Loaded\n",
      "1000 270\n",
      "OVERRIDE\n",
      "Feature: TFIDF   Clasifier: LinearSVC   Key: TFIDF-LinearSVC\n",
      "Feature: TFIDF   Clasifier: LogRegL1   Key: TFIDF-LogRegL1\n",
      "Feature: TFIDF   Clasifier: LogRegL2   Key: TFIDF-LogRegL2\n"
     ]
    }
   ],
   "source": [
    "overall_result = []\n",
    "for train_size in [10,20,50,100,200,500,1000]:\n",
    "    test_size = 270\n",
    "    result, clf_result = {}, {}\n",
    "    debug=True\n",
    "    override=True\n",
    "    data_split = make_data_ratio(df_data, test_size=test_size, train_size=train_size,\n",
    "                               debug=debug, shuffle_seed=global_shuffle_seed, override=override)\n",
    "    print(len(data_split['train']), len(data_split['test']))\n",
    "    actual = [i if i==True else 0 for i in data_split['test']['is_flood']]\n",
    "    clf_result, result = run_grid(grid, data_split, feature_extract, classifiers, clf_result, result, \n",
    "                              debug=debug, override=override)\n",
    "    for key, val in clf_result.items():\n",
    "#         if key not in overall_result: overall_result[key] = []\n",
    "        predict = val['predict']\n",
    "        clf_acc = accuracy_score(actual, predict)\n",
    "        pre, rec, fsc, sup = precision_recall_fscore_support(actual, predict, average='binary')\n",
    "        d = { 'key':key, 'train_size':train_size, 'test_size':test_size, 'accuracy':clf_acc, 'precision':pre, \n",
    "            'recall':rec, 'f1':fsc,'predict':predict, 'actual': actual\n",
    "        }\n",
    "        overall_result.append(d)"
   ]
  },
  {
   "cell_type": "code",
   "execution_count": 148,
   "metadata": {},
   "outputs": [
    {
     "data": {
      "text/html": [
       "<div>\n",
       "<style scoped>\n",
       "    .dataframe tbody tr th:only-of-type {\n",
       "        vertical-align: middle;\n",
       "    }\n",
       "\n",
       "    .dataframe tbody tr th {\n",
       "        vertical-align: top;\n",
       "    }\n",
       "\n",
       "    .dataframe thead th {\n",
       "        text-align: right;\n",
       "    }\n",
       "</style>\n",
       "<table border=\"1\" class=\"dataframe\">\n",
       "  <thead>\n",
       "    <tr style=\"text-align: right;\">\n",
       "      <th></th>\n",
       "      <th>key</th>\n",
       "      <th>train_size</th>\n",
       "      <th>test_size</th>\n",
       "      <th>accuracy</th>\n",
       "      <th>precision</th>\n",
       "      <th>recall</th>\n",
       "      <th>f1</th>\n",
       "    </tr>\n",
       "  </thead>\n",
       "  <tbody>\n",
       "    <tr>\n",
       "      <th>1</th>\n",
       "      <td>TFIDF-LogRegL1</td>\n",
       "      <td>10</td>\n",
       "      <td>270</td>\n",
       "      <td>0.518519</td>\n",
       "      <td>0.000000</td>\n",
       "      <td>0.000000</td>\n",
       "      <td>0.000000</td>\n",
       "    </tr>\n",
       "    <tr>\n",
       "      <th>0</th>\n",
       "      <td>TFIDF-LinearSVC</td>\n",
       "      <td>10</td>\n",
       "      <td>270</td>\n",
       "      <td>0.814815</td>\n",
       "      <td>0.844828</td>\n",
       "      <td>0.753846</td>\n",
       "      <td>0.796748</td>\n",
       "    </tr>\n",
       "    <tr>\n",
       "      <th>2</th>\n",
       "      <td>TFIDF-LogRegL2</td>\n",
       "      <td>10</td>\n",
       "      <td>270</td>\n",
       "      <td>0.829630</td>\n",
       "      <td>0.833333</td>\n",
       "      <td>0.807692</td>\n",
       "      <td>0.820313</td>\n",
       "    </tr>\n",
       "    <tr>\n",
       "      <th>4</th>\n",
       "      <td>TFIDF-LogRegL1</td>\n",
       "      <td>20</td>\n",
       "      <td>270</td>\n",
       "      <td>0.518519</td>\n",
       "      <td>0.000000</td>\n",
       "      <td>0.000000</td>\n",
       "      <td>0.000000</td>\n",
       "    </tr>\n",
       "    <tr>\n",
       "      <th>3</th>\n",
       "      <td>TFIDF-LinearSVC</td>\n",
       "      <td>20</td>\n",
       "      <td>270</td>\n",
       "      <td>0.781481</td>\n",
       "      <td>0.831776</td>\n",
       "      <td>0.684615</td>\n",
       "      <td>0.751055</td>\n",
       "    </tr>\n",
       "    <tr>\n",
       "      <th>5</th>\n",
       "      <td>TFIDF-LogRegL2</td>\n",
       "      <td>20</td>\n",
       "      <td>270</td>\n",
       "      <td>0.796296</td>\n",
       "      <td>0.826087</td>\n",
       "      <td>0.730769</td>\n",
       "      <td>0.775510</td>\n",
       "    </tr>\n",
       "    <tr>\n",
       "      <th>7</th>\n",
       "      <td>TFIDF-LogRegL1</td>\n",
       "      <td>50</td>\n",
       "      <td>270</td>\n",
       "      <td>0.662963</td>\n",
       "      <td>0.634483</td>\n",
       "      <td>0.707692</td>\n",
       "      <td>0.669091</td>\n",
       "    </tr>\n",
       "    <tr>\n",
       "      <th>8</th>\n",
       "      <td>TFIDF-LogRegL2</td>\n",
       "      <td>50</td>\n",
       "      <td>270</td>\n",
       "      <td>0.862963</td>\n",
       "      <td>0.854962</td>\n",
       "      <td>0.861538</td>\n",
       "      <td>0.858238</td>\n",
       "    </tr>\n",
       "    <tr>\n",
       "      <th>6</th>\n",
       "      <td>TFIDF-LinearSVC</td>\n",
       "      <td>50</td>\n",
       "      <td>270</td>\n",
       "      <td>0.866667</td>\n",
       "      <td>0.873016</td>\n",
       "      <td>0.846154</td>\n",
       "      <td>0.859375</td>\n",
       "    </tr>\n",
       "    <tr>\n",
       "      <th>10</th>\n",
       "      <td>TFIDF-LogRegL1</td>\n",
       "      <td>100</td>\n",
       "      <td>270</td>\n",
       "      <td>0.740741</td>\n",
       "      <td>0.826087</td>\n",
       "      <td>0.584615</td>\n",
       "      <td>0.684685</td>\n",
       "    </tr>\n",
       "    <tr>\n",
       "      <th>11</th>\n",
       "      <td>TFIDF-LogRegL2</td>\n",
       "      <td>100</td>\n",
       "      <td>270</td>\n",
       "      <td>0.870370</td>\n",
       "      <td>0.886179</td>\n",
       "      <td>0.838462</td>\n",
       "      <td>0.861660</td>\n",
       "    </tr>\n",
       "    <tr>\n",
       "      <th>9</th>\n",
       "      <td>TFIDF-LinearSVC</td>\n",
       "      <td>100</td>\n",
       "      <td>270</td>\n",
       "      <td>0.877778</td>\n",
       "      <td>0.894309</td>\n",
       "      <td>0.846154</td>\n",
       "      <td>0.869565</td>\n",
       "    </tr>\n",
       "    <tr>\n",
       "      <th>13</th>\n",
       "      <td>TFIDF-LogRegL1</td>\n",
       "      <td>200</td>\n",
       "      <td>270</td>\n",
       "      <td>0.803704</td>\n",
       "      <td>0.840708</td>\n",
       "      <td>0.730769</td>\n",
       "      <td>0.781893</td>\n",
       "    </tr>\n",
       "    <tr>\n",
       "      <th>14</th>\n",
       "      <td>TFIDF-LogRegL2</td>\n",
       "      <td>200</td>\n",
       "      <td>270</td>\n",
       "      <td>0.892593</td>\n",
       "      <td>0.874074</td>\n",
       "      <td>0.907692</td>\n",
       "      <td>0.890566</td>\n",
       "    </tr>\n",
       "    <tr>\n",
       "      <th>12</th>\n",
       "      <td>TFIDF-LinearSVC</td>\n",
       "      <td>200</td>\n",
       "      <td>270</td>\n",
       "      <td>0.896296</td>\n",
       "      <td>0.886364</td>\n",
       "      <td>0.900000</td>\n",
       "      <td>0.893130</td>\n",
       "    </tr>\n",
       "    <tr>\n",
       "      <th>16</th>\n",
       "      <td>TFIDF-LogRegL1</td>\n",
       "      <td>500</td>\n",
       "      <td>270</td>\n",
       "      <td>0.870370</td>\n",
       "      <td>0.874016</td>\n",
       "      <td>0.853846</td>\n",
       "      <td>0.863813</td>\n",
       "    </tr>\n",
       "    <tr>\n",
       "      <th>17</th>\n",
       "      <td>TFIDF-LogRegL2</td>\n",
       "      <td>500</td>\n",
       "      <td>270</td>\n",
       "      <td>0.903704</td>\n",
       "      <td>0.888060</td>\n",
       "      <td>0.915385</td>\n",
       "      <td>0.901515</td>\n",
       "    </tr>\n",
       "    <tr>\n",
       "      <th>15</th>\n",
       "      <td>TFIDF-LinearSVC</td>\n",
       "      <td>500</td>\n",
       "      <td>270</td>\n",
       "      <td>0.911111</td>\n",
       "      <td>0.895522</td>\n",
       "      <td>0.923077</td>\n",
       "      <td>0.909091</td>\n",
       "    </tr>\n",
       "    <tr>\n",
       "      <th>19</th>\n",
       "      <td>TFIDF-LogRegL1</td>\n",
       "      <td>1000</td>\n",
       "      <td>270</td>\n",
       "      <td>0.900000</td>\n",
       "      <td>0.893130</td>\n",
       "      <td>0.900000</td>\n",
       "      <td>0.896552</td>\n",
       "    </tr>\n",
       "    <tr>\n",
       "      <th>20</th>\n",
       "      <td>TFIDF-LogRegL2</td>\n",
       "      <td>1000</td>\n",
       "      <td>270</td>\n",
       "      <td>0.933333</td>\n",
       "      <td>0.917910</td>\n",
       "      <td>0.946154</td>\n",
       "      <td>0.931818</td>\n",
       "    </tr>\n",
       "    <tr>\n",
       "      <th>18</th>\n",
       "      <td>TFIDF-LinearSVC</td>\n",
       "      <td>1000</td>\n",
       "      <td>270</td>\n",
       "      <td>0.937037</td>\n",
       "      <td>0.931298</td>\n",
       "      <td>0.938462</td>\n",
       "      <td>0.934866</td>\n",
       "    </tr>\n",
       "  </tbody>\n",
       "</table>\n",
       "</div>"
      ],
      "text/plain": [
       "                key  train_size  test_size  accuracy  precision    recall  \\\n",
       "1    TFIDF-LogRegL1          10        270  0.518519   0.000000  0.000000   \n",
       "0   TFIDF-LinearSVC          10        270  0.814815   0.844828  0.753846   \n",
       "2    TFIDF-LogRegL2          10        270  0.829630   0.833333  0.807692   \n",
       "4    TFIDF-LogRegL1          20        270  0.518519   0.000000  0.000000   \n",
       "3   TFIDF-LinearSVC          20        270  0.781481   0.831776  0.684615   \n",
       "5    TFIDF-LogRegL2          20        270  0.796296   0.826087  0.730769   \n",
       "7    TFIDF-LogRegL1          50        270  0.662963   0.634483  0.707692   \n",
       "8    TFIDF-LogRegL2          50        270  0.862963   0.854962  0.861538   \n",
       "6   TFIDF-LinearSVC          50        270  0.866667   0.873016  0.846154   \n",
       "10   TFIDF-LogRegL1         100        270  0.740741   0.826087  0.584615   \n",
       "11   TFIDF-LogRegL2         100        270  0.870370   0.886179  0.838462   \n",
       "9   TFIDF-LinearSVC         100        270  0.877778   0.894309  0.846154   \n",
       "13   TFIDF-LogRegL1         200        270  0.803704   0.840708  0.730769   \n",
       "14   TFIDF-LogRegL2         200        270  0.892593   0.874074  0.907692   \n",
       "12  TFIDF-LinearSVC         200        270  0.896296   0.886364  0.900000   \n",
       "16   TFIDF-LogRegL1         500        270  0.870370   0.874016  0.853846   \n",
       "17   TFIDF-LogRegL2         500        270  0.903704   0.888060  0.915385   \n",
       "15  TFIDF-LinearSVC         500        270  0.911111   0.895522  0.923077   \n",
       "19   TFIDF-LogRegL1        1000        270  0.900000   0.893130  0.900000   \n",
       "20   TFIDF-LogRegL2        1000        270  0.933333   0.917910  0.946154   \n",
       "18  TFIDF-LinearSVC        1000        270  0.937037   0.931298  0.938462   \n",
       "\n",
       "          f1  \n",
       "1   0.000000  \n",
       "0   0.796748  \n",
       "2   0.820313  \n",
       "4   0.000000  \n",
       "3   0.751055  \n",
       "5   0.775510  \n",
       "7   0.669091  \n",
       "8   0.858238  \n",
       "6   0.859375  \n",
       "10  0.684685  \n",
       "11  0.861660  \n",
       "9   0.869565  \n",
       "13  0.781893  \n",
       "14  0.890566  \n",
       "12  0.893130  \n",
       "16  0.863813  \n",
       "17  0.901515  \n",
       "15  0.909091  \n",
       "19  0.896552  \n",
       "20  0.931818  \n",
       "18  0.934866  "
      ]
     },
     "execution_count": 148,
     "metadata": {},
     "output_type": "execute_result"
    }
   ],
   "source": [
    "pd.DataFrame.from_dict(overall_result) \\\n",
    "                .drop(['predict','actual'], axis=1) \\\n",
    "                .sort_values(['train_size', 'accuracy'])"
   ]
  },
  {
   "cell_type": "markdown",
   "metadata": {},
   "source": [
    "### BERT Classifier"
   ]
  },
  {
   "cell_type": "code",
   "execution_count": 149,
   "metadata": {},
   "outputs": [
    {
     "data": {
      "text/html": [
       "<div>\n",
       "<style scoped>\n",
       "    .dataframe tbody tr th:only-of-type {\n",
       "        vertical-align: middle;\n",
       "    }\n",
       "\n",
       "    .dataframe tbody tr th {\n",
       "        vertical-align: top;\n",
       "    }\n",
       "\n",
       "    .dataframe thead th {\n",
       "        text-align: right;\n",
       "    }\n",
       "</style>\n",
       "<table border=\"1\" class=\"dataframe\">\n",
       "  <thead>\n",
       "    <tr style=\"text-align: right;\">\n",
       "      <th></th>\n",
       "      <th>key</th>\n",
       "      <th>train_size</th>\n",
       "      <th>test_size</th>\n",
       "      <th>accuracy</th>\n",
       "      <th>precision</th>\n",
       "      <th>recall</th>\n",
       "      <th>f1</th>\n",
       "    </tr>\n",
       "  </thead>\n",
       "  <tbody>\n",
       "    <tr>\n",
       "      <th>0</th>\n",
       "      <td>BERT-512</td>\n",
       "      <td>10</td>\n",
       "      <td>270</td>\n",
       "      <td>0.614815</td>\n",
       "      <td>0.638298</td>\n",
       "      <td>0.461538</td>\n",
       "      <td>0.535714</td>\n",
       "    </tr>\n",
       "    <tr>\n",
       "      <th>1</th>\n",
       "      <td>BERT-512</td>\n",
       "      <td>20</td>\n",
       "      <td>270</td>\n",
       "      <td>0.833333</td>\n",
       "      <td>0.845528</td>\n",
       "      <td>0.800000</td>\n",
       "      <td>0.822134</td>\n",
       "    </tr>\n",
       "    <tr>\n",
       "      <th>2</th>\n",
       "      <td>BERT-512</td>\n",
       "      <td>50</td>\n",
       "      <td>270</td>\n",
       "      <td>0.900000</td>\n",
       "      <td>0.870504</td>\n",
       "      <td>0.930769</td>\n",
       "      <td>0.899628</td>\n",
       "    </tr>\n",
       "    <tr>\n",
       "      <th>3</th>\n",
       "      <td>BERT-512</td>\n",
       "      <td>100</td>\n",
       "      <td>270</td>\n",
       "      <td>0.914815</td>\n",
       "      <td>0.874126</td>\n",
       "      <td>0.961538</td>\n",
       "      <td>0.915751</td>\n",
       "    </tr>\n",
       "    <tr>\n",
       "      <th>4</th>\n",
       "      <td>BERT-512</td>\n",
       "      <td>200</td>\n",
       "      <td>270</td>\n",
       "      <td>0.907407</td>\n",
       "      <td>0.888889</td>\n",
       "      <td>0.923077</td>\n",
       "      <td>0.905660</td>\n",
       "    </tr>\n",
       "    <tr>\n",
       "      <th>5</th>\n",
       "      <td>BERT-512</td>\n",
       "      <td>500</td>\n",
       "      <td>270</td>\n",
       "      <td>0.922222</td>\n",
       "      <td>0.909774</td>\n",
       "      <td>0.930769</td>\n",
       "      <td>0.920152</td>\n",
       "    </tr>\n",
       "    <tr>\n",
       "      <th>6</th>\n",
       "      <td>BERT-512</td>\n",
       "      <td>1000</td>\n",
       "      <td>270</td>\n",
       "      <td>0.925926</td>\n",
       "      <td>0.904412</td>\n",
       "      <td>0.946154</td>\n",
       "      <td>0.924812</td>\n",
       "    </tr>\n",
       "  </tbody>\n",
       "</table>\n",
       "</div>"
      ],
      "text/plain": [
       "        key  train_size  test_size  accuracy  precision    recall        f1\n",
       "0  BERT-512          10        270  0.614815   0.638298  0.461538  0.535714\n",
       "1  BERT-512          20        270  0.833333   0.845528  0.800000  0.822134\n",
       "2  BERT-512          50        270  0.900000   0.870504  0.930769  0.899628\n",
       "3  BERT-512         100        270  0.914815   0.874126  0.961538  0.915751\n",
       "4  BERT-512         200        270  0.907407   0.888889  0.923077  0.905660\n",
       "5  BERT-512         500        270  0.922222   0.909774  0.930769  0.920152\n",
       "6  BERT-512        1000        270  0.925926   0.904412  0.946154  0.924812"
      ]
     },
     "execution_count": 149,
     "metadata": {},
     "output_type": "execute_result"
    }
   ],
   "source": [
    "overall_result_bert = [\n",
    "    {'key': 'BERT-512', 'train_size': 10, 'test_size': 270, 'accuracy': 0.6148148148148148, \n",
    "     'precision': 0.6382978723404256, 'recall': 0.46153846153846156, 'f1': 0.5357142857142858},\n",
    "    {'key': 'BERT-512', 'train_size': 20, 'test_size': 270, 'accuracy': 0.8333333333333334, \n",
    "     'precision': 0.8455284552845529, 'recall': 0.8, 'f1': 0.8221343873517788},\n",
    "    {'key': 'BERT-512', 'train_size': 50, 'test_size': 270, 'accuracy': 0.9, \n",
    "     'precision': 0.8705035971223022, 'recall': 0.9307692307692308, 'f1': 0.899628252788104},\n",
    "    {'key': 'BERT-512', 'train_size': 100, 'test_size': 270, 'accuracy': 0.9148148148148149, \n",
    "     'precision': 0.8741258741258742, 'recall': 0.9615384615384616, 'f1': 0.9157509157509157},\n",
    "    {'key': 'BERT-512', 'train_size': 200, 'test_size': 270, 'accuracy': 0.9074074074074074, \n",
    "     'precision': 0.8888888888888888, 'recall': 0.9230769230769231, 'f1': 0.9056603773584906},\n",
    "    {'key': 'BERT-512', 'train_size': 500, 'test_size': 270, 'accuracy': 0.9222222222222223, \n",
    "     'precision': 0.9097744360902256, 'recall': 0.9307692307692308, 'f1': 0.920152091254753},\n",
    "    {'key': 'BERT-512', 'train_size': 1000, 'test_size': 270, 'accuracy': 0.9259259259259259, \n",
    "     'precision': 0.9044117647058824, 'recall': 0.9461538461538461, 'f1': 0.9248120300751879}\n",
    "]\n",
    "r2 = []\n",
    "for i in overall_result_bert:\n",
    "    i['predict'] = []\n",
    "    i['actual'] = []\n",
    "    r2.append(i)\n",
    "overall_result_bert = r2\n",
    "pd.DataFrame.from_dict(overall_result_bert) \\\n",
    "                .drop(['predict','actual'], axis=1) \\\n",
    "                .sort_values(['train_size', 'accuracy'])"
   ]
  },
  {
   "cell_type": "markdown",
   "metadata": {},
   "source": [
    "### Weak Classifier"
   ]
  },
  {
   "cell_type": "code",
   "execution_count": 219,
   "metadata": {},
   "outputs": [],
   "source": [
    "# Evaluate weak classifier\n",
    "words = ['flood', 'inundat', 'cyclone']\n",
    "flood_data, non_flood_data = [], []\n",
    "for row in df_data.iterrows():\n",
    "    text = row[1]['text']\n",
    "    if any(word in text for word in keys): flood_data.append(row[1])\n",
    "    else: non_flood_data.append(row[1])\n",
    "weak_flood = pd.DataFrame(flood_data)\n",
    "weak_not_flood = pd.DataFrame(non_flood_data)"
   ]
  },
  {
   "cell_type": "code",
   "execution_count": 249,
   "metadata": {},
   "outputs": [],
   "source": [
    "from all_papers import *"
   ]
  },
  {
   "cell_type": "code",
   "execution_count": 250,
   "metadata": {},
   "outputs": [],
   "source": [
    "# def get_id_data(paper_name: str, query_id=None, connect_filename=None, query_term='all', debug=True):\n",
    "#     \"\"\"\n",
    "#     given an id or connect_filename, get data related to it\n",
    "#     :param paper_name:\n",
    "#     :param query_id:\n",
    "#     :param connect_filename:\n",
    "#     :param query_term: 'all' to get all data, or enter a term to query (eg. datePublished)\n",
    "#     :param debug:\n",
    "#     :return:\n",
    "#     \"\"\"\n",
    "#     root_folder = '/Users/tejitpabari/Desktop/BangladeshFloodResearch/nlp_flood_research/article_scraping/paper_data'\n",
    "#     paper_name = parse_paper_name(paper_name)\n",
    "#     data = json.load(open(os.path.join(root_folder, 'all_paper_data',paper_name+'1_data.json')))\n",
    "#     data_id = None\n",
    "#     if query_id:\n",
    "#         for d in data:\n",
    "#             if d['id']==query_id:\n",
    "#                 data_id=d\n",
    "#                 break\n",
    "#         if not data_id: raise Exception('ID: {} not found in paper: {}'.format(query_id, paper_name))\n",
    "#     elif connect_filename:\n",
    "#         for d in data:\n",
    "#             if 'connect_filename' in d and d['connect_filename']==connect_filename:\n",
    "#                 data_id=d\n",
    "#                 break\n",
    "#         if not data_id: raise Exception('Connect_filename: {} not found in paper: {}'.format(connect_filename, paper_name))\n",
    "#     else: raise Exception('Please enter a query_id or a connect_filename')"
   ]
  },
  {
   "cell_type": "code",
   "execution_count": 39,
   "metadata": {
    "scrolled": true
   },
   "outputs": [],
   "source": [
    "newspaper_mapping = {'daily_star':'thedailystar', 'dhaka_tribune': 'dhakaTribune', 'ny_times':'nytimes'}\n",
    "def text_link(df, i):\n",
    "    link = get_id_data(newspaper_mapping[df['newspaper'].iloc[i]], query_id=df['doc_id'].iloc[i])['meta']['link']\n",
    "    print(df['org_text'].iloc[i])\n",
    "    print(link)"
   ]
  },
  {
   "cell_type": "code",
   "execution_count": 267,
   "metadata": {},
   "outputs": [],
   "source": [
    "wrong_weak_flood = weak_flood[weak_flood['is_flood']==False]\n",
    "ban = wrong_weak_flood[wrong_weak_flood['is_bangladesh']==True]\n",
    "ban2 = ban[ban['org_text'].str.contains('cyclon')]"
   ]
  },
  {
   "cell_type": "code",
   "execution_count": 282,
   "metadata": {
    "scrolled": false
   },
   "outputs": [
    {
     "name": "stdout",
     "output_type": "stream",
     "text": [
      "Date Published:2018-09-09 00:00:00 More than 2,000 houses, 500 business centres, and other establishments have already been washed away The devastating erosion of the Padma River has once again taken a serious turn in Naria upazila of Shariatpur district. According to sources, more than: 2,000 houses, 500 business centres, several schools, mosques and other establishments have been washed away by the consequences of aggressive river erosion. The river is threatening increasingly more areas. On Sunday morning, a big portion of Naria Upazila Health Complex and a mosque adjacent to the hospital also washed away. At least 12 hospital buildings are at risk of being washed away at any time, said locals. In the last month, the river has devoured several multi-storey buildings, a mosque, 2,000 business centres, 300 shops, and others establishments located on the riverbank. A1.50km area, from Naria Banshtola to Purba Naria, was washed away by the river in the last couple of days-- but the authorities concerned paid no head on it, locals said. Although the erosion is ongoing for the last couple of years, no initiative to build a dam or embankment was taken by the local administration, claimed the locals. They also claimed the government should declare the area a disaster zone. Shahidul Islam Babu, mayor of Naria Municipality , said they started to send relief materials to the victims. UNO Sanjida Yeasmin said she told the higher authorities to declare the area a disaster zone. On a recent visit, she also assured the locals that the construction work on the 9km dam will start on the first week of October. @#\n",
      "https://www.dhakatribune.com/bangladesh/nation/2018/09/09/padma-river-erosion-strikes-naria-again\n"
     ]
    }
   ],
   "source": [
    "wrong_weak_not_flood = weak_not_flood[weak_not_flood['is_flood']==True]\n",
    "ban = wrong_weak_not_flood[wrong_weak_not_flood['is_bangladesh']==True]\n",
    "text_link(ban, 3)"
   ]
  },
  {
   "cell_type": "code",
   "execution_count": null,
   "metadata": {},
   "outputs": [],
   "source": []
  },
  {
   "cell_type": "code",
   "execution_count": 232,
   "metadata": {},
   "outputs": [
    {
     "data": {
      "text/plain": [
       "'9498ced5-0aef-4e72-ac26-92070adc88a2'"
      ]
     },
     "execution_count": 232,
     "metadata": {},
     "output_type": "execute_result"
    }
   ],
   "source": [
    "ban['doc_id'].iloc[1]"
   ]
  },
  {
   "cell_type": "code",
   "execution_count": 54,
   "metadata": {},
   "outputs": [],
   "source": [
    "from itertools import chain, combinations\n",
    "weak_res = []\n",
    "words = ['flood', 'inundat', 'cyclone']\n",
    "\n",
    "def powerset(iterable):\n",
    "    s = list(iterable)\n",
    "    return chain.from_iterable(combinations(s, r) for r in range(len(s)+1))\n",
    "\n",
    "actual = list(data_split['test']['is_flood'])\n",
    "for keys in powerset(words):\n",
    "    if len(keys)>0:\n",
    "        predict = []\n",
    "        for row in data_split['test'].iterrows():\n",
    "            text = row[1]['text']\n",
    "            if any(word in text for word in keys): predict.append(True)\n",
    "            else: predict.append(False)\n",
    "        clf_acc = accuracy_score(actual, predict)\n",
    "        pre, rec, fsc, sup = precision_recall_fscore_support(actual, predict, average='binary')\n",
    "        d = { 'key':'-'.join(keys), 'train_size':0, 'test_size':len(data_split['test']), \n",
    "             'accuracy':clf_acc, 'precision':pre, \n",
    "            'recall':rec, 'f1':fsc,'predict':predict, 'actual': actual\n",
    "        }\n",
    "        weak_res.append(d)"
   ]
  },
  {
   "cell_type": "code",
   "execution_count": 56,
   "metadata": {},
   "outputs": [
    {
     "data": {
      "text/plain": [
       "423"
      ]
     },
     "execution_count": 56,
     "metadata": {},
     "output_type": "execute_result"
    }
   ],
   "source": [
    "len(data_split['test'][data_split['test']['is_flood']==True])"
   ]
  },
  {
   "cell_type": "code",
   "execution_count": 55,
   "metadata": {},
   "outputs": [
    {
     "data": {
      "text/html": [
       "<div>\n",
       "<style scoped>\n",
       "    .dataframe tbody tr th:only-of-type {\n",
       "        vertical-align: middle;\n",
       "    }\n",
       "\n",
       "    .dataframe tbody tr th {\n",
       "        vertical-align: top;\n",
       "    }\n",
       "\n",
       "    .dataframe thead th {\n",
       "        text-align: right;\n",
       "    }\n",
       "</style>\n",
       "<table border=\"1\" class=\"dataframe\">\n",
       "  <thead>\n",
       "    <tr style=\"text-align: right;\">\n",
       "      <th></th>\n",
       "      <th>key</th>\n",
       "      <th>train_size</th>\n",
       "      <th>test_size</th>\n",
       "      <th>accuracy</th>\n",
       "      <th>precision</th>\n",
       "      <th>recall</th>\n",
       "      <th>f1</th>\n",
       "    </tr>\n",
       "  </thead>\n",
       "  <tbody>\n",
       "    <tr>\n",
       "      <th>2</th>\n",
       "      <td>cyclone</td>\n",
       "      <td>0</td>\n",
       "      <td>880</td>\n",
       "      <td>0.523864</td>\n",
       "      <td>0.518868</td>\n",
       "      <td>0.130024</td>\n",
       "      <td>0.207940</td>\n",
       "    </tr>\n",
       "    <tr>\n",
       "      <th>5</th>\n",
       "      <td>inundat-cyclone</td>\n",
       "      <td>0</td>\n",
       "      <td>880</td>\n",
       "      <td>0.701136</td>\n",
       "      <td>0.781690</td>\n",
       "      <td>0.524823</td>\n",
       "      <td>0.628006</td>\n",
       "    </tr>\n",
       "    <tr>\n",
       "      <th>1</th>\n",
       "      <td>inundat</td>\n",
       "      <td>0</td>\n",
       "      <td>880</td>\n",
       "      <td>0.715909</td>\n",
       "      <td>0.926108</td>\n",
       "      <td>0.444444</td>\n",
       "      <td>0.600639</td>\n",
       "    </tr>\n",
       "    <tr>\n",
       "      <th>4</th>\n",
       "      <td>flood-cyclone</td>\n",
       "      <td>0</td>\n",
       "      <td>880</td>\n",
       "      <td>0.728409</td>\n",
       "      <td>0.647910</td>\n",
       "      <td>0.952719</td>\n",
       "      <td>0.771292</td>\n",
       "    </tr>\n",
       "    <tr>\n",
       "      <th>0</th>\n",
       "      <td>flood</td>\n",
       "      <td>0</td>\n",
       "      <td>880</td>\n",
       "      <td>0.732955</td>\n",
       "      <td>0.657191</td>\n",
       "      <td>0.929078</td>\n",
       "      <td>0.769833</td>\n",
       "    </tr>\n",
       "    <tr>\n",
       "      <th>6</th>\n",
       "      <td>flood-inundat-cyclone</td>\n",
       "      <td>0</td>\n",
       "      <td>880</td>\n",
       "      <td>0.732955</td>\n",
       "      <td>0.649206</td>\n",
       "      <td>0.966903</td>\n",
       "      <td>0.776828</td>\n",
       "    </tr>\n",
       "    <tr>\n",
       "      <th>3</th>\n",
       "      <td>flood-inundat</td>\n",
       "      <td>0</td>\n",
       "      <td>880</td>\n",
       "      <td>0.738636</td>\n",
       "      <td>0.658979</td>\n",
       "      <td>0.945626</td>\n",
       "      <td>0.776699</td>\n",
       "    </tr>\n",
       "  </tbody>\n",
       "</table>\n",
       "</div>"
      ],
      "text/plain": [
       "                     key  train_size  test_size  accuracy  precision  \\\n",
       "2                cyclone           0        880  0.523864   0.518868   \n",
       "5        inundat-cyclone           0        880  0.701136   0.781690   \n",
       "1                inundat           0        880  0.715909   0.926108   \n",
       "4          flood-cyclone           0        880  0.728409   0.647910   \n",
       "0                  flood           0        880  0.732955   0.657191   \n",
       "6  flood-inundat-cyclone           0        880  0.732955   0.649206   \n",
       "3          flood-inundat           0        880  0.738636   0.658979   \n",
       "\n",
       "     recall        f1  \n",
       "2  0.130024  0.207940  \n",
       "5  0.524823  0.628006  \n",
       "1  0.444444  0.600639  \n",
       "4  0.952719  0.771292  \n",
       "0  0.929078  0.769833  \n",
       "6  0.966903  0.776828  \n",
       "3  0.945626  0.776699  "
      ]
     },
     "execution_count": 55,
     "metadata": {},
     "output_type": "execute_result"
    }
   ],
   "source": [
    "pd.DataFrame.from_dict(weak_res) \\\n",
    "                .drop(['predict','actual'], axis=1) \\\n",
    "                .sort_values(['train_size', 'accuracy'])"
   ]
  },
  {
   "cell_type": "markdown",
   "metadata": {},
   "source": [
    "### OVERALL CLASSIFIER"
   ]
  },
  {
   "cell_type": "code",
   "execution_count": 161,
   "metadata": {
    "scrolled": true
   },
   "outputs": [
    {
     "name": "stdout",
     "output_type": "stream",
     "text": [
      "\\begin{tabular}{lrrrrrr}\n",
      "\\toprule\n",
      "                   key &  train\\_size &  test\\_size &  accuracy &  precision &  recall &    f1 \\\\\n",
      "\\midrule\n",
      "               cyclone &           0 &       1380 &      0.53 &       0.56 &    0.14 &  0.22 \\\\\n",
      "       inundat-cyclone &           0 &       1380 &      0.69 &       0.78 &    0.49 &  0.60 \\\\\n",
      "               inundat &           0 &       1380 &      0.69 &       0.91 &    0.41 &  0.56 \\\\\n",
      "         flood-cyclone &           0 &       1380 &      0.73 &       0.65 &    0.95 &  0.77 \\\\\n",
      "                 flood &           0 &       1380 &      0.73 &       0.66 &    0.93 &  0.77 \\\\\n",
      " flood-inundat-cyclone &           0 &       1380 &      0.73 &       0.65 &    0.97 &  0.78 \\\\\n",
      "         flood-inundat &           0 &       1380 &      0.74 &       0.66 &    0.95 &  0.78 \\\\\n",
      "        TFIDF-LogRegL1 &          10 &        270 &      0.52 &       0.00 &    0.00 &  0.00 \\\\\n",
      "              BERT-512 &          10 &        270 &      0.61 &       0.64 &    0.46 &  0.54 \\\\\n",
      "       TFIDF-LinearSVC &          10 &        270 &      0.81 &       0.84 &    0.75 &  0.80 \\\\\n",
      "        TFIDF-LogRegL2 &          10 &        270 &      0.83 &       0.83 &    0.81 &  0.82 \\\\\n",
      "        TFIDF-LogRegL1 &          20 &        270 &      0.52 &       0.00 &    0.00 &  0.00 \\\\\n",
      "       TFIDF-LinearSVC &          20 &        270 &      0.78 &       0.83 &    0.68 &  0.75 \\\\\n",
      "        TFIDF-LogRegL2 &          20 &        270 &      0.80 &       0.83 &    0.73 &  0.78 \\\\\n",
      "              BERT-512 &          20 &        270 &      0.83 &       0.85 &    0.80 &  0.82 \\\\\n",
      "        TFIDF-LogRegL1 &          50 &        270 &      0.66 &       0.63 &    0.71 &  0.67 \\\\\n",
      "        TFIDF-LogRegL2 &          50 &        270 &      0.86 &       0.85 &    0.86 &  0.86 \\\\\n",
      "       TFIDF-LinearSVC &          50 &        270 &      0.87 &       0.87 &    0.85 &  0.86 \\\\\n",
      "              BERT-512 &          50 &        270 &      0.90 &       0.87 &    0.93 &  0.90 \\\\\n",
      "        TFIDF-LogRegL1 &         100 &        270 &      0.74 &       0.83 &    0.58 &  0.68 \\\\\n",
      "        TFIDF-LogRegL2 &         100 &        270 &      0.87 &       0.89 &    0.84 &  0.86 \\\\\n",
      "       TFIDF-LinearSVC &         100 &        270 &      0.88 &       0.89 &    0.85 &  0.87 \\\\\n",
      "              BERT-512 &         100 &        270 &      0.91 &       0.87 &    0.96 &  0.92 \\\\\n",
      "        TFIDF-LogRegL1 &         200 &        270 &      0.80 &       0.84 &    0.73 &  0.78 \\\\\n",
      "        TFIDF-LogRegL2 &         200 &        270 &      0.89 &       0.87 &    0.91 &  0.89 \\\\\n",
      "       TFIDF-LinearSVC &         200 &        270 &      0.90 &       0.89 &    0.90 &  0.89 \\\\\n",
      "              BERT-512 &         200 &        270 &      0.91 &       0.89 &    0.92 &  0.91 \\\\\n",
      "        TFIDF-LogRegL1 &         500 &        270 &      0.87 &       0.87 &    0.85 &  0.86 \\\\\n",
      "        TFIDF-LogRegL2 &         500 &        270 &      0.90 &       0.89 &    0.92 &  0.90 \\\\\n",
      "       TFIDF-LinearSVC &         500 &        270 &      0.91 &       0.90 &    0.92 &  0.91 \\\\\n",
      "              BERT-512 &         500 &        270 &      0.92 &       0.91 &    0.93 &  0.92 \\\\\n",
      "        TFIDF-LogRegL1 &        1000 &        270 &      0.90 &       0.89 &    0.90 &  0.90 \\\\\n",
      "              BERT-512 &        1000 &        270 &      0.93 &       0.90 &    0.95 &  0.92 \\\\\n",
      "        TFIDF-LogRegL2 &        1000 &        270 &      0.93 &       0.92 &    0.95 &  0.93 \\\\\n",
      "       TFIDF-LinearSVC &        1000 &        270 &      0.94 &       0.93 &    0.94 &  0.93 \\\\\n",
      "\\bottomrule\n",
      "\\end{tabular}\n",
      "\n"
     ]
    }
   ],
   "source": [
    "result_df = pd.DataFrame.from_dict(overall_result + overall_result_bert + weak_res) \\\n",
    "                .drop(['predict','actual'], axis=1) \\\n",
    "                .sort_values(['train_size', 'accuracy'])\n",
    "result_df['accuracy'] = result_df['accuracy'].apply(lambda x:round(x,2))\n",
    "result_df['precision'] = result_df['precision'].apply(lambda x:round(x,2))\n",
    "result_df['recall'] = result_df['recall'].apply(lambda x:round(x,2))\n",
    "result_df['f1'] = result_df['f1'].apply(lambda x:round(x,2))\n",
    "print(result_df.reset_index(drop=True).to_latex(index=False))"
   ]
  },
  {
   "cell_type": "markdown",
   "metadata": {},
   "source": [
    "### cross validation"
   ]
  },
  {
   "cell_type": "code",
   "execution_count": 188,
   "metadata": {},
   "outputs": [
    {
     "name": "stdout",
     "output_type": "stream",
     "text": [
      "Feature: TFIDF   Clasifier: LinearSVC   Key: TFIDF-LinearSVC\n",
      "Feature: TFIDF   Clasifier: LogRegL1   Key: TFIDF-LogRegL1\n",
      "Feature: TFIDF   Clasifier: LogRegL2   Key: TFIDF-LogRegL2\n",
      "Feature: TFIDF   Clasifier: RandomForest   Key: TFIDF-RandomForest\n"
     ]
    }
   ],
   "source": [
    "overall_result = []\n",
    "clf_result = {}\n",
    "debug=True\n",
    "override=True\n",
    "clf_result = run_grid_cross_validate(grid, df_data, feature_extract, classifiers, clf_result, debug=debug)\n",
    "for key, val in clf_result.items():\n",
    "    d = { 'key':key,\n",
    "         'mean_accuracy': round(np.mean(val['test_accuracy']),2), \n",
    "         'mean_precision': round(np.mean(val['test_precision']),2),\n",
    "         'mean_recall': round(np.mean(val['test_recall']),2), \n",
    "         'mean_f1': round(np.mean(val['test_f1']),2),\n",
    "         'accuracy':val['test_accuracy'], 'precision':val['test_precision'],\n",
    "         'recall':val['test_recall'], 'f1':val['test_f1']\n",
    "    }\n",
    "    overall_result.append(d)"
   ]
  },
  {
   "cell_type": "code",
   "execution_count": 193,
   "metadata": {},
   "outputs": [],
   "source": [
    "overall_result.append(\n",
    "    {'key': 'BERT-512', \n",
    "     'accuracy': [0.9456521739130435, 0.9166666666666666, \n",
    "                  0.9347826086956522, 0.927536231884058, 0.9202898550724637], \n",
    "     'precision': [0.9389312977099237, 0.8506493506493507, \n",
    "                   0.9060402684563759, 0.9121621621621622, 0.9090909090909091], \n",
    "     'recall': [0.9461538461538461, 1.0, \n",
    "                0.9712230215827338, 0.9507042253521126, 0.9090909090909091], \n",
    "     'f1': [0.9425287356321839, 0.9192982456140351, \n",
    "            0.9375, 0.9310344827586207, 0.9090909090909091], \n",
    "     'mean_accuracy': 0.9289855072463767, 'mean_precision': 0.9033747976137443, \n",
    "     'mean_recall': 0.9554344004359203, 'mean_f1': 0.9278904746191496}\n",
    ")\n"
   ]
  },
  {
   "cell_type": "code",
   "execution_count": 194,
   "metadata": {},
   "outputs": [
    {
     "name": "stdout",
     "output_type": "stream",
     "text": [
      "\\begin{tabular}{lrrrr}\n",
      "\\toprule\n",
      "                key &  mean\\_accuracy &  mean\\_precision &  mean\\_recall &  mean\\_f1 \\\\\n",
      "\\midrule\n",
      "     TFIDF-LogRegL1 &       0.900000 &        0.900000 &     0.890000 &  0.89000 \\\\\n",
      "     TFIDF-LogRegL2 &       0.920000 &        0.890000 &     0.940000 &  0.91000 \\\\\n",
      " TFIDF-RandomForest &       0.920000 &        0.870000 &     0.970000 &  0.92000 \\\\\n",
      "           BERT-512 &       0.928986 &        0.903375 &     0.955434 &  0.92789 \\\\\n",
      "    TFIDF-LinearSVC &       0.930000 &        0.910000 &     0.950000 &  0.93000 \\\\\n",
      "\\bottomrule\n",
      "\\end{tabular}\n",
      "\n"
     ]
    }
   ],
   "source": [
    "print(pd.DataFrame.from_dict(overall_result) \\\n",
    "                .drop(['accuracy','precision', 'recall', 'f1'], axis=1) \\\n",
    "                .sort_values(['mean_accuracy']).to_latex(index=False))\n",
    "                "
   ]
  },
  {
   "cell_type": "markdown",
   "metadata": {},
   "source": [
    "### 500 train_size"
   ]
  },
  {
   "cell_type": "code",
   "execution_count": 116,
   "metadata": {
    "scrolled": true
   },
   "outputs": [
    {
     "name": "stdout",
     "output_type": "stream",
     "text": [
      "Data Loaded\n",
      "500 880\n",
      "OVERRIDE\n",
      "Feature: TFIDF   Clasifier: LinearSVC   Key: TFIDF-LinearSVC\n",
      "Feature: TFIDF   Clasifier: LogRegL1   Key: TFIDF-LogRegL1\n",
      "Feature: TFIDF   Clasifier: LogRegL2   Key: TFIDF-LogRegL2\n",
      "Feature: TFIDF   Clasifier: RandomForest   Key: TFIDF-RandomForest\n"
     ]
    }
   ],
   "source": [
    "overall_result = []\n",
    "train_size = 500\n",
    "test_size = len(df_data)-train_size\n",
    "result, clf_result = {}, {}\n",
    "debug=True\n",
    "override=True\n",
    "data_split = make_data_ratio(df_data, test_size=test_size, train_size=train_size,\n",
    "                           debug=debug, shuffle_seed=global_shuffle_seed, override=override)\n",
    "print(len(data_split['train']), len(data_split['test']))\n",
    "\n",
    "actual = [1 if i==True else 0 for i in data_split['test']['is_flood']]\n",
    "clf_result, result = run_grid(grid, data_split, feature_extract, classifiers, clf_result, result, \n",
    "                              debug=debug, override=override)\n",
    "for key, val in clf_result.items():\n",
    "#         if key not in overall_result: overall_result[key] = []\n",
    "    predict = val['predict']\n",
    "    clf_acc = accuracy_score(actual, predict)\n",
    "    pre, rec, fsc, sup = precision_recall_fscore_support(actual, predict, average='binary')\n",
    "    d = { 'key':key, 'train_size':train_size, 'test_size':test_size, 'accuracy':clf_acc, 'precision':pre, \n",
    "        'recall':rec, 'f1':fsc,'predict':predict, 'actual': actual\n",
    "    }\n",
    "    overall_result.append(d)"
   ]
  },
  {
   "cell_type": "code",
   "execution_count": 102,
   "metadata": {},
   "outputs": [],
   "source": [
    "# json.dump(json.loads(data_split['test'].to_json(orient='records')), open('test.json','w'), indent=2)"
   ]
  },
  {
   "cell_type": "code",
   "execution_count": 117,
   "metadata": {},
   "outputs": [],
   "source": [
    "overall_result.append({'key': 'BERT-512', 'train_size': 500, 'test_size': 880, 'accuracy': 0.928409090909091, 'precision': 0.9054054054054054, 'recall': 0.950354609929078, 'f1': 0.9273356401384083, 'predict': [1, 1, 0, 0, 0, 1, 0, 1, 0, 0, 0, 1, 0, 1, 1, 1, 0, 1, 1, 1, 1, 0,\n",
    "       0, 1, 0, 1, 1, 0, 1, 0, 1, 0, 1, 1, 0, 0, 0, 0, 0, 0, 1, 0, 0, 1,\n",
    "       1, 1, 1, 0, 1, 0, 1, 1, 0, 1, 0, 1, 0, 1, 0, 1, 0, 1, 0, 0, 1, 0,\n",
    "       1, 1, 0, 1, 1, 1, 1, 1, 1, 1, 1, 1, 1, 0, 0, 1, 0, 1, 0, 0, 0, 1,\n",
    "       1, 1, 0, 0, 1, 1, 0, 0, 1, 1, 1, 1, 0, 0, 1, 1, 0, 0, 1, 1, 1, 1,\n",
    "       0, 0, 1, 1, 0, 1, 1, 1, 0, 1, 1, 1, 0, 1, 0, 0, 0, 0, 0, 1, 1, 1,\n",
    "       1, 0, 1, 1, 0, 0, 0, 1, 0, 0, 0, 1, 1, 0, 1, 0, 0, 0, 1, 1, 0, 1,\n",
    "       1, 0, 0, 1, 0, 1, 1, 1, 1, 0, 0, 1, 1, 1, 1, 1, 0, 1, 0, 0, 1, 1,\n",
    "       0, 0, 1, 0, 1, 1, 1, 1, 1, 0, 0, 1, 0, 0, 1, 1, 1, 0, 0, 1, 0, 1,\n",
    "       0, 0, 0, 0, 1, 1, 1, 0, 0, 1, 1, 1, 0, 1, 1, 1, 1, 0, 1, 0, 1, 0,\n",
    "       0, 0, 0, 0, 1, 0, 1, 0, 0, 0, 0, 1, 1, 0, 1, 1, 1, 0, 0, 1, 0, 0,\n",
    "       0, 1, 1, 1, 0, 1, 1, 1, 1, 0, 1, 1, 1, 1, 0, 1, 1, 0, 0, 0, 1, 1,\n",
    "       0, 0, 0, 0, 1, 0, 0, 1, 0, 0, 0, 1, 0, 1, 1, 1, 1, 1, 0, 1, 1, 1,\n",
    "       0, 0, 1, 0, 1, 0, 0, 1, 0, 1, 0, 1, 0, 0, 1, 0, 0, 0, 0, 1, 0, 0,\n",
    "       0, 1, 1, 1, 0, 0, 0, 0, 1, 0, 0, 1, 1, 1, 1, 0, 0, 0, 1, 0, 1, 1,\n",
    "       1, 1, 1, 1, 1, 1, 1, 0, 0, 0, 1, 0, 0, 0, 0, 1, 1, 1, 0, 1, 0, 0,\n",
    "       0, 1, 1, 0, 1, 1, 1, 0, 0, 0, 0, 1, 1, 1, 0, 0, 1, 0, 0, 0, 0, 1,\n",
    "       0, 1, 1, 1, 1, 1, 0, 0, 1, 1, 0, 0, 0, 1, 0, 1, 0, 0, 1, 0, 1, 1,\n",
    "       0, 0, 1, 0, 0, 0, 1, 0, 1, 1, 0, 0, 1, 1, 0, 0, 0, 0, 1, 0, 1, 1,\n",
    "       0, 1, 1, 0, 1, 0, 0, 0, 0, 1, 1, 1, 0, 1, 0, 1, 1, 0, 1, 0, 0, 1,\n",
    "       0, 1, 0, 0, 0, 0, 0, 1, 0, 1, 0, 0, 0, 0, 1, 1, 0, 1, 1, 0, 0, 0,\n",
    "       0, 1, 0, 0, 0, 1, 1, 0, 0, 1, 1, 1, 0, 0, 0, 1, 1, 1, 1, 1, 0, 1,\n",
    "       1, 0, 1, 1, 0, 1, 0, 1, 0, 1, 1, 0, 0, 0, 1, 0, 0, 0, 1, 1, 1, 0,\n",
    "       1, 1, 1, 0, 0, 0, 1, 1, 0, 0, 1, 0, 1, 0, 1, 1, 0, 1, 1, 0, 1, 1,\n",
    "       1, 1, 1, 0, 0, 0, 0, 0, 1, 1, 0, 1, 0, 0, 0, 0, 1, 0, 1, 0, 0, 0,\n",
    "       1, 1, 0, 0, 1, 1, 1, 1, 1, 1, 0, 0, 1, 1, 0, 1, 0, 0, 1, 1, 0, 1,\n",
    "       1, 1, 1, 1, 1, 1, 1, 0, 1, 1, 1, 1, 0, 0, 0, 0, 0, 0, 1, 1, 1, 1,\n",
    "       1, 1, 1, 1, 0, 0, 0, 1, 1, 0, 1, 0, 1, 1, 1, 1, 0, 1, 1, 1, 0, 1,\n",
    "       0, 1, 0, 0, 0, 0, 1, 0, 1, 0, 1, 1, 0, 0, 1, 0, 0, 1, 0, 0, 1, 0,\n",
    "       0, 1, 0, 0, 1, 1, 0, 1, 0, 1, 0, 0, 1, 1, 0, 0, 0, 1, 1, 1, 0, 1,\n",
    "       0, 1, 1, 1, 1, 0, 0, 0, 1, 1, 1, 1, 1, 1, 1, 0, 1, 0, 0, 0, 1, 0,\n",
    "       0, 0, 1, 0, 0, 1, 0, 0, 0, 1, 1, 0, 1, 0, 1, 0, 0, 1, 1, 1, 0, 0,\n",
    "       0, 1, 0, 1, 1, 1, 1, 0, 0, 1, 0, 0, 1, 0, 1, 1, 1, 0, 0, 0, 0, 1,\n",
    "       0, 1, 1, 0, 1, 1, 1, 1, 1, 0, 0, 0, 1, 0, 0, 1, 1, 0, 0, 1, 0, 1,\n",
    "       1, 0, 0, 0, 1, 1, 0, 1, 0, 0, 0, 1, 1, 1, 0, 0, 0, 0, 1, 1, 1, 0,\n",
    "       0, 0, 1, 1, 0, 1, 1, 0, 0, 0, 0, 0, 0, 1, 0, 0, 1, 0, 1, 1, 1, 1,\n",
    "       1, 0, 1, 1, 0, 0, 1, 0, 1, 1, 1, 0, 0, 0, 0, 0, 1, 0, 0, 1, 1, 1,\n",
    "       1, 0, 0, 1, 1, 1, 1, 1, 0, 0, 0, 0, 1, 0, 0, 1, 0, 0, 1, 0, 0, 0,\n",
    "       0, 1, 1, 1, 0, 0, 0, 1, 1, 0, 0, 1, 0, 1, 0, 0, 0, 1, 0, 0, 0, 1,\n",
    "       0, 1, 1, 0, 0, 0, 0, 1, 0, 1, 0, 0, 1, 0, 1, 0, 0, 0, 1, 1, 0, 0]})\n"
   ]
  },
  {
   "cell_type": "code",
   "execution_count": 118,
   "metadata": {},
   "outputs": [
    {
     "data": {
      "text/plain": [
       "True"
      ]
     },
     "execution_count": 118,
     "metadata": {},
     "output_type": "execute_result"
    }
   ],
   "source": [
    "actualBERT = [1, 1, 0, 0, 0, 0, 0, 1, 0, 0, 0, 1, 0, 1, 1, 1, 0, 0, 1, 1, 1, 0, 0, 0, 0, 1, 1, 0, 1, 0, 1, 0, 1, 1, 0, 0, 0, 0, 0, 0, 1, 0, 0, 1, 1, 1, 1, 0, 1, 0, 1, 1, 0, 1, 0, 1, 0, 0, 0, 1, 0, 1, 0, 0, 1, 0, 1, 1, 0, 1, 1, 1, 1, 1, 1, 1, 1, 1, 1, 0, 0, 1, 0, 0, 0, 0, 0, 0, 1, 1, 0, 0, 1, 1, 0, 0, 1, 1, 1, 1, 0, 0, 1, 0, 0, 0, 1, 1, 0, 1, 0, 0, 1, 1, 0, 1, 1, 1, 0, 1, 1, 1, 0, 1, 0, 0, 0, 0, 0, 1, 1, 1, 1, 0, 1, 1, 0, 0, 0, 1, 0, 0, 1, 1, 1, 0, 1, 0, 0, 0, 1, 0, 0, 1, 0, 0, 0, 1, 0, 1, 1, 1, 1, 0, 0, 1, 1, 1, 1, 0, 0, 1, 0, 0, 1, 1, 0, 0, 1, 0, 1, 1, 1, 1, 1, 0, 0, 1, 0, 0, 1, 1, 1, 0, 0, 1, 0, 1, 0, 0, 0, 0, 1, 1, 1, 0, 0, 1, 1, 1, 0, 1, 1, 1, 1, 0, 1, 0, 1, 0, 0, 0, 0, 0, 1, 0, 0, 0, 0, 0, 0, 1, 1, 0, 1, 1, 1, 0, 0, 1, 0, 0, 0, 1, 1, 1, 0, 1, 1, 1, 1, 0, 1, 1, 1, 1, 0, 1, 1, 0, 0, 0, 1, 1, 0, 1, 0, 0, 0, 0, 0, 1, 0, 0, 0, 1, 0, 1, 1, 1, 1, 1, 0, 1, 1, 1, 1, 0, 1, 0, 1, 0, 0, 1, 0, 1, 0, 1, 0, 0, 1, 0, 0, 0, 0, 1, 1, 0, 0, 1, 1, 0, 0, 0, 0, 0, 1, 0, 0, 1, 1, 1, 1, 0, 0, 0, 1, 0, 1, 1, 1, 1, 1, 1, 1, 1, 1, 0, 0, 0, 1, 0, 0, 0, 0, 1, 1, 1, 0, 1, 0, 0, 0, 1, 1, 0, 1, 0, 1, 0, 0, 0, 0, 1, 1, 1, 0, 0, 0, 0, 1, 0, 0, 0, 1, 1, 1, 1, 1, 1, 0, 0, 1, 1, 0, 0, 0, 1, 0, 1, 0, 0, 0, 0, 1, 0, 0, 0, 1, 0, 0, 0, 1, 0, 1, 1, 0, 0, 1, 1, 0, 0, 1, 0, 1, 1, 1, 0, 0, 1, 1, 0, 0, 0, 0, 0, 0, 1, 1, 1, 0, 1, 0, 1, 1, 0, 1, 0, 0, 1, 0, 1, 0, 0, 0, 0, 0, 1, 0, 0, 0, 0, 0, 0, 1, 1, 0, 1, 1, 0, 0, 0, 0, 1, 0, 0, 0, 1, 1, 0, 1, 1, 1, 0, 0, 0, 0, 1, 1, 1, 1, 1, 0, 1, 1, 0, 1, 1, 1, 1, 0, 1, 0, 1, 1, 0, 0, 0, 0, 0, 0, 0, 0, 1, 1, 0, 1, 1, 0, 0, 0, 0, 1, 1, 0, 0, 1, 0, 1, 0, 1, 1, 0, 1, 1, 0, 1, 0, 1, 1, 1, 0, 0, 0, 0, 0, 1, 0, 1, 1, 0, 0, 0, 0, 1, 0, 1, 0, 0, 0, 1, 1, 1, 0, 1, 1, 1, 1, 1, 1, 0, 0, 1, 1, 1, 1, 0, 0, 1, 1, 0, 1, 1, 1, 1, 0, 1, 1, 1, 0, 1, 1, 1, 1, 1, 0, 0, 0, 0, 0, 1, 1, 1, 1, 1, 1, 1, 1, 0, 0, 0, 1, 0, 0, 1, 0, 1, 1, 1, 1, 0, 1, 1, 1, 0, 1, 0, 1, 0, 0, 0, 0, 0, 0, 1, 0, 1, 1, 0, 0, 1, 0, 0, 1, 0, 0, 1, 0, 0, 1, 0, 0, 1, 1, 0, 1, 0, 1, 0, 0, 1, 1, 0, 0, 0, 1, 1, 1, 0, 0, 0, 1, 1, 1, 1, 0, 0, 0, 1, 1, 1, 1, 1, 1, 1, 0, 1, 0, 0, 0, 1, 0, 0, 0, 1, 0, 0, 1, 0, 0, 0, 1, 0, 0, 1, 0, 1, 0, 0, 1, 1, 1, 0, 0, 0, 0, 0, 1, 1, 1, 1, 0, 0, 0, 0, 0, 1, 0, 1, 1, 1, 0, 0, 0, 0, 1, 0, 1, 1, 0, 0, 1, 1, 1, 1, 0, 0, 0, 1, 0, 0, 1, 1, 0, 0, 1, 0, 1, 1, 1, 0, 0, 1, 1, 0, 1, 0, 0, 0, 1, 1, 1, 0, 1, 0, 0, 1, 1, 1, 0, 0, 0, 1, 1, 1, 1, 1, 0, 0, 0, 0, 0, 0, 1, 0, 0, 0, 1, 1, 1, 1, 1, 1, 0, 1, 1, 0, 0, 1, 0, 1, 1, 1, 0, 1, 0, 0, 0, 1, 0, 0, 1, 1, 0, 1, 0, 0, 1, 1, 1, 1, 1, 0, 0, 0, 0, 1, 0, 0, 1, 0, 0, 0, 0, 0, 0, 0, 1, 1, 1, 0, 0, 0, 1, 1, 0, 0, 1, 0, 0, 0, 1, 0, 1, 0, 0, 0, 1, 0, 1, 1, 0, 0, 0, 0, 0, 1, 0, 0, 0, 1, 0, 1, 0, 0, 0, 1, 1, 0, 0]\n",
    "actualBERT==actual"
   ]
  },
  {
   "cell_type": "code",
   "execution_count": 119,
   "metadata": {},
   "outputs": [],
   "source": [
    "df_ref = data_split['test'].copy()"
   ]
  },
  {
   "cell_type": "code",
   "execution_count": 124,
   "metadata": {},
   "outputs": [],
   "source": [
    "for a in overall_result:\n",
    "    df_ref[a['key']] = a['predict']\n",
    "df_ref['actual'] = actual"
   ]
  },
  {
   "cell_type": "code",
   "execution_count": 125,
   "metadata": {},
   "outputs": [],
   "source": [
    "def text_link(df, i):\n",
    "    link = get_id_data(newspaper_mapping[df['newspaper'].iloc[i]], query_id=df['doc_id'].iloc[i])['meta']['link']\n",
    "    print(df['org_text'].iloc[i])\n",
    "    print(link)"
   ]
  },
  {
   "cell_type": "code",
   "execution_count": 147,
   "metadata": {},
   "outputs": [
    {
     "name": "stdout",
     "output_type": "stream",
     "text": [
      "14\n"
     ]
    }
   ],
   "source": [
    "cl = 'TFIDF-LinearSVC'\n",
    "d = df_ref[df_ref.apply(lambda x: x[cl]==0 and x['BERT-512']==1 and x['actual']==1, axis=1)]\n",
    "print(len(d))\n",
    "# text_link(d, 0)"
   ]
  },
  {
   "cell_type": "code",
   "execution_count": 158,
   "metadata": {},
   "outputs": [
    {
     "name": "stdout",
     "output_type": "stream",
     "text": [
      "50\n"
     ]
    }
   ],
   "source": [
    "cl = 'TFIDF-LogRegL1'\n",
    "d = df_ref[df_ref.apply(lambda x: x[cl]==0 and x['BERT-512']==1 and x['actual']==1, axis=1)]\n",
    "print(len(d))\n",
    "# text_link(d, 8)"
   ]
  },
  {
   "cell_type": "code",
   "execution_count": 180,
   "metadata": {},
   "outputs": [
    {
     "name": "stdout",
     "output_type": "stream",
     "text": [
      "27\n"
     ]
    }
   ],
   "source": [
    "cl = 'TFIDF-LogRegL2'\n",
    "d = df_ref[df_ref.apply(lambda x: x[cl]==0 and x['BERT-512']==1 and x['actual']==1, axis=1)]\n",
    "print(len(d))\n",
    "# text_link(d, 19)"
   ]
  },
  {
   "cell_type": "code",
   "execution_count": 204,
   "metadata": {},
   "outputs": [
    {
     "name": "stdout",
     "output_type": "stream",
     "text": [
      "13\n"
     ]
    },
    {
     "data": {
      "text/plain": [
       "'136 Are Dead as Floods Hit Bangladesh and North India 1984-05-25T05:00:00.000Z Floods in northeastern India and in Bangladesh were reported today to have left 136 people dead, hundreds of thousands homeless and crops devastated. In Bangladesh the death toll was 91. @#'"
      ]
     },
     "execution_count": 204,
     "metadata": {},
     "output_type": "execute_result"
    }
   ],
   "source": [
    "cl = 'TFIDF-RandomForest'\n",
    "d = df_ref[df_ref.apply(lambda x: x[cl]==0 and x['BERT-512']==1 and x['actual']==1, axis=1)]\n",
    "print(len(d))\n",
    "# text_link(d, 3)\n",
    "d['org_text'].iloc[2]"
   ]
  },
  {
   "cell_type": "code",
   "execution_count": 123,
   "metadata": {},
   "outputs": [
    {
     "data": {
      "text/html": [
       "<div>\n",
       "<style scoped>\n",
       "    .dataframe tbody tr th:only-of-type {\n",
       "        vertical-align: middle;\n",
       "    }\n",
       "\n",
       "    .dataframe tbody tr th {\n",
       "        vertical-align: top;\n",
       "    }\n",
       "\n",
       "    .dataframe thead th {\n",
       "        text-align: right;\n",
       "    }\n",
       "</style>\n",
       "<table border=\"1\" class=\"dataframe\">\n",
       "  <thead>\n",
       "    <tr style=\"text-align: right;\">\n",
       "      <th></th>\n",
       "      <th>key</th>\n",
       "      <th>train_size</th>\n",
       "      <th>test_size</th>\n",
       "      <th>accuracy</th>\n",
       "      <th>precision</th>\n",
       "      <th>recall</th>\n",
       "      <th>f1</th>\n",
       "    </tr>\n",
       "  </thead>\n",
       "  <tbody>\n",
       "    <tr>\n",
       "      <th>1</th>\n",
       "      <td>TFIDF-LogRegL1</td>\n",
       "      <td>500</td>\n",
       "      <td>880</td>\n",
       "      <td>0.885227</td>\n",
       "      <td>0.904523</td>\n",
       "      <td>0.851064</td>\n",
       "      <td>0.876979</td>\n",
       "    </tr>\n",
       "    <tr>\n",
       "      <th>2</th>\n",
       "      <td>TFIDF-LogRegL2</td>\n",
       "      <td>500</td>\n",
       "      <td>880</td>\n",
       "      <td>0.904545</td>\n",
       "      <td>0.893271</td>\n",
       "      <td>0.910165</td>\n",
       "      <td>0.901639</td>\n",
       "    </tr>\n",
       "    <tr>\n",
       "      <th>3</th>\n",
       "      <td>TFIDF-RandomForest</td>\n",
       "      <td>500</td>\n",
       "      <td>880</td>\n",
       "      <td>0.906818</td>\n",
       "      <td>0.873085</td>\n",
       "      <td>0.943262</td>\n",
       "      <td>0.906818</td>\n",
       "    </tr>\n",
       "    <tr>\n",
       "      <th>0</th>\n",
       "      <td>TFIDF-LinearSVC</td>\n",
       "      <td>500</td>\n",
       "      <td>880</td>\n",
       "      <td>0.914773</td>\n",
       "      <td>0.897260</td>\n",
       "      <td>0.929078</td>\n",
       "      <td>0.912892</td>\n",
       "    </tr>\n",
       "    <tr>\n",
       "      <th>4</th>\n",
       "      <td>BERT-512</td>\n",
       "      <td>500</td>\n",
       "      <td>880</td>\n",
       "      <td>0.928409</td>\n",
       "      <td>0.905405</td>\n",
       "      <td>0.950355</td>\n",
       "      <td>0.927336</td>\n",
       "    </tr>\n",
       "  </tbody>\n",
       "</table>\n",
       "</div>"
      ],
      "text/plain": [
       "                  key  train_size  test_size  accuracy  precision    recall  \\\n",
       "1      TFIDF-LogRegL1         500        880  0.885227   0.904523  0.851064   \n",
       "2      TFIDF-LogRegL2         500        880  0.904545   0.893271  0.910165   \n",
       "3  TFIDF-RandomForest         500        880  0.906818   0.873085  0.943262   \n",
       "0     TFIDF-LinearSVC         500        880  0.914773   0.897260  0.929078   \n",
       "4            BERT-512         500        880  0.928409   0.905405  0.950355   \n",
       "\n",
       "         f1  \n",
       "1  0.876979  \n",
       "2  0.901639  \n",
       "3  0.906818  \n",
       "0  0.912892  \n",
       "4  0.927336  "
      ]
     },
     "execution_count": 123,
     "metadata": {},
     "output_type": "execute_result"
    }
   ],
   "source": [
    "pd.DataFrame.from_dict(overall_result) \\\n",
    "                .drop(['predict','actual'], axis=1) \\\n",
    "                .sort_values(['train_size', 'accuracy'])"
   ]
  },
  {
   "cell_type": "markdown",
   "metadata": {},
   "source": [
    "# Classify new data"
   ]
  },
  {
   "cell_type": "code",
   "execution_count": 18,
   "metadata": {
    "scrolled": true
   },
   "outputs": [
    {
     "name": "stdout",
     "output_type": "stream",
     "text": [
      "36123\n"
     ]
    }
   ],
   "source": [
    "root_folder = 'paper_data'\n",
    "newspapers = ['bdnews', 'dailySun', 'prothomalo', 'dailyObserver', 'newAge', \n",
    "              'dhakaTribune', 'thedailystar', 'theIndependent', 'theNewNation']\n",
    "# newspapers += ['nytimes']\n",
    "# newspapers_files = [os.path.join(root_folder, n, n+'2_data.json') for n in newspapers]\n",
    "newspapers_files = [os.path.join(root_folder, 'all_paper_data', n+'1_data.json') for n in newspapers]\n",
    "\n",
    "idSet = set(df_data['doc_id'])\n",
    "\n",
    "def classify_new_data(newspapers_files):\n",
    "    new_data = pd.DataFrame()\n",
    "    text_set = set()\n",
    "    for i,newspapers_path in enumerate(newspapers_files):\n",
    "        temp_data = json.load(open(newspapers_path))\n",
    "        temp_data2 = []\n",
    "        for t in temp_data:\n",
    "            if t['id'] in idSet: continue\n",
    "            temp_dict = t['meta']\n",
    "            for k,v in t['article'].items(): temp_dict[k]=v\n",
    "            temp_dict['id'] = t['id']\n",
    "            temp_dict['connect_filename'] = t.get('connect_filename',None)\n",
    "            temp_dict['newspaper'] = newspapers[i]\n",
    "            if t['article']['text'] not in text_set: text_set.add(t['article']['text'])\n",
    "            else: continue\n",
    "            temp_data2.append(temp_dict)\n",
    "        temp_df = pd.DataFrame(temp_data2)\n",
    "        new_data = pd.concat([new_data, temp_df])\n",
    "    new_data = new_data.fillna(\"\")\n",
    "    new_data = new_data[new_data['connect_filename']==\"\"]\n",
    "    print(len(new_data))\n",
    "    return new_data\n",
    "### New data from newspapers\n",
    "\n",
    "\n",
    "### NYTIMES new data\n",
    "# newspapers_files = ['../article_scraping/paper_data/thedailystar/theDailyStar3_data.json']\n",
    "new_data = classify_new_data(newspapers_files)"
   ]
  },
  {
   "cell_type": "code",
   "execution_count": 19,
   "metadata": {},
   "outputs": [
    {
     "data": {
      "text/html": [
       "<div>\n",
       "<style scoped>\n",
       "    .dataframe tbody tr th:only-of-type {\n",
       "        vertical-align: middle;\n",
       "    }\n",
       "\n",
       "    .dataframe tbody tr th {\n",
       "        vertical-align: top;\n",
       "    }\n",
       "\n",
       "    .dataframe thead th {\n",
       "        text-align: right;\n",
       "    }\n",
       "</style>\n",
       "<table border=\"1\" class=\"dataframe\">\n",
       "  <thead>\n",
       "    <tr style=\"text-align: right;\">\n",
       "      <th></th>\n",
       "      <th>abstract</th>\n",
       "      <th>news_keywords</th>\n",
       "      <th>description</th>\n",
       "      <th>keywords</th>\n",
       "      <th>datePublished</th>\n",
       "      <th>dateModified</th>\n",
       "      <th>link</th>\n",
       "      <th>query_info</th>\n",
       "      <th>headline</th>\n",
       "      <th>text</th>\n",
       "      <th>id</th>\n",
       "      <th>connect_filename</th>\n",
       "      <th>newspaper</th>\n",
       "      <th>authors</th>\n",
       "    </tr>\n",
       "  </thead>\n",
       "  <tbody>\n",
       "    <tr>\n",
       "      <th>0</th>\n",
       "      <td></td>\n",
       "      <td></td>\n",
       "      <td>Massive blackout brings Bangladesh to its knees</td>\n",
       "      <td>[Bangladesh]</td>\n",
       "      <td>2014-11-01 00:00:00</td>\n",
       "      <td></td>\n",
       "      <td>https://bdnews24.com/bangladesh/2014/11/01/mas...</td>\n",
       "      <td>{'query': 'bangladesh \"floods\"', 'paper': 'bdn...</td>\n",
       "      <td>Massive blackout brings Bangladesh to its knees</td>\n",
       "      <td>Date Published:2014-11-01 00:00:00      \\nSeve...</td>\n",
       "      <td>5da996ad-b1a9-490e-9c89-d8a34ecc5741</td>\n",
       "      <td></td>\n",
       "      <td>bdnews</td>\n",
       "      <td></td>\n",
       "    </tr>\n",
       "    <tr>\n",
       "      <th>1</th>\n",
       "      <td></td>\n",
       "      <td></td>\n",
       "      <td>Nawaz Sharif praises Bangladesh</td>\n",
       "      <td>[Bangladesh]</td>\n",
       "      <td>2014-11-26 00:00:00</td>\n",
       "      <td></td>\n",
       "      <td>https://bdnews24.com/bangladesh/2014/11/26/naw...</td>\n",
       "      <td>{'query': 'bangladesh \"floods\"', 'paper': 'bdn...</td>\n",
       "      <td>Nawaz Sharif praises Bangladesh</td>\n",
       "      <td>Date Published:2014-11-26 00:00:00      \\nHe e...</td>\n",
       "      <td>d8c9576a-e4b4-4cfe-af54-dd208f699d75</td>\n",
       "      <td></td>\n",
       "      <td>bdnews</td>\n",
       "      <td></td>\n",
       "    </tr>\n",
       "  </tbody>\n",
       "</table>\n",
       "</div>"
      ],
      "text/plain": [
       "  abstract news_keywords                                      description  \\\n",
       "0                         Massive blackout brings Bangladesh to its knees   \n",
       "1                                         Nawaz Sharif praises Bangladesh   \n",
       "\n",
       "       keywords        datePublished dateModified  \\\n",
       "0  [Bangladesh]  2014-11-01 00:00:00                \n",
       "1  [Bangladesh]  2014-11-26 00:00:00                \n",
       "\n",
       "                                                link  \\\n",
       "0  https://bdnews24.com/bangladesh/2014/11/01/mas...   \n",
       "1  https://bdnews24.com/bangladesh/2014/11/26/naw...   \n",
       "\n",
       "                                          query_info  \\\n",
       "0  {'query': 'bangladesh \"floods\"', 'paper': 'bdn...   \n",
       "1  {'query': 'bangladesh \"floods\"', 'paper': 'bdn...   \n",
       "\n",
       "                                          headline  \\\n",
       "0  Massive blackout brings Bangladesh to its knees   \n",
       "1                  Nawaz Sharif praises Bangladesh   \n",
       "\n",
       "                                                text  \\\n",
       "0  Date Published:2014-11-01 00:00:00      \\nSeve...   \n",
       "1  Date Published:2014-11-26 00:00:00      \\nHe e...   \n",
       "\n",
       "                                     id connect_filename newspaper authors  \n",
       "0  5da996ad-b1a9-490e-9c89-d8a34ecc5741                     bdnews          \n",
       "1  d8c9576a-e4b4-4cfe-af54-dd208f699d75                     bdnews          "
      ]
     },
     "execution_count": 19,
     "metadata": {},
     "output_type": "execute_result"
    }
   ],
   "source": [
    "new_data.head(2)"
   ]
  },
  {
   "cell_type": "code",
   "execution_count": 26,
   "metadata": {},
   "outputs": [],
   "source": [
    "new_data['org_text'] = new_data['text']\n",
    "new_data['text'] = new_data['text'].apply(preprocess)\n",
    "jdata = json.loads(new_data[['datePublished','text','org_text','id','newspaper']].to_json(orient='records'))\n",
    "json.dump(jdata,open('new_data.json','w'))"
   ]
  },
  {
   "cell_type": "code",
   "execution_count": null,
   "metadata": {},
   "outputs": [],
   "source": []
  },
  {
   "cell_type": "code",
   "execution_count": 25,
   "metadata": {},
   "outputs": [],
   "source": [
    "def loop_data_train_test(classifier, feature, data_df=None, predictions_folder = 'predictions',\n",
    "                         prev_true_data_df=None, prev_false_data_df=None, save=True):\n",
    "#     if data_df is None and prev_false_data_df is None: raise Exception('No df_data or prev_dalse_data_df')\n",
    "#     if prev_false_data_df is not None: data_df = prev_false_data_df\n",
    "    to_keep_cols = ['datePublished', 'text', 'doc_id', 'connect_filename', 'newspaper', 'is_flood']\n",
    "    data_df['new_text'] = data_df['text'].apply(preprocess)\n",
    "    \n",
    "    test_features = feature.transform(list(data_df['new_text']))\n",
    "    test_pred = classifier.predict(test_features)\n",
    "    \n",
    "    data_df['is_flood'] = [bool(i) for i in test_pred]\n",
    "    data_df['doc_id'] = data_df['id']\n",
    "    data_df = data_df[to_keep_cols]\n",
    "    true_new_data = data_df.loc[data_df['is_flood']]\n",
    "    false_new_data = data_df.loc[~data_df['is_flood']]\n",
    "    print('Total New Data: {}\\tTrue new Data: {}'.format(len(data_df), len(true_new_data)))\n",
    "    \n",
    "    if prev_true_data_df is not None: df_true_new_data = pd.concat([prev_true_data_df, true_new_data])\n",
    "    else: df_true_new_data = true_new_data\n",
    "    js = df_true_new_data.to_json(orient='records')\n",
    "    if save: json.dump(json.loads(js), open(os.path.join(predictions_folder, 'predicted_isflood.json'), 'w'), indent=2)\n",
    "    \n",
    "    if prev_false_data_df is not None: df_false_new_data = pd.concat([prev_false_data_df, false_new_data])\n",
    "    else: df_false_new_data = false_new_data\n",
    "    js = df_false_new_data.to_json(orient='records')\n",
    "    if save: json.dump(json.loads(js), open(os.path.join(predictions_folder, 'predicted_not_isflood.json'), 'w'), indent=2)\n",
    "    return df_true_new_data, false_new_data"
   ]
  },
  {
   "cell_type": "code",
   "execution_count": 26,
   "metadata": {},
   "outputs": [
    {
     "name": "stdout",
     "output_type": "stream",
     "text": [
      "Total New Data: 344709\tTrue new Data: 1873\n"
     ]
    }
   ],
   "source": [
    "key = 'TFIDF-LinearSVC'\n",
    "feature = clf_result[key]['feature']\n",
    "classifier = clf_result[key]['clf']\n",
    "prev_true_data_df, prev_false_data_df = None, None\n",
    "# prev_true_data_df, prev_false_data_df = get_new_predicted_data()\n",
    "save = False\n",
    "df_true_new_data, false_new_data = loop_data_train_test(classifier, feature, new_data, 'predictions',\n",
    "                                                        prev_true_data_df, prev_false_data_df, save=save)"
   ]
  },
  {
   "cell_type": "code",
   "execution_count": 27,
   "metadata": {},
   "outputs": [],
   "source": [
    "df_true_new_dataBangla = df_true_new_data[df_true_new_data['text'].str.contains('bangladesh', flags=re.IGNORECASE)]\n"
   ]
  },
  {
   "cell_type": "code",
   "execution_count": 28,
   "metadata": {},
   "outputs": [
    {
     "data": {
      "text/plain": [
       "290"
      ]
     },
     "execution_count": 28,
     "metadata": {},
     "output_type": "execute_result"
    }
   ],
   "source": [
    "len(df_true_new_dataBangla)"
   ]
  },
  {
   "cell_type": "code",
   "execution_count": 75,
   "metadata": {},
   "outputs": [
    {
     "data": {
      "text/plain": [
       "37986"
      ]
     },
     "execution_count": 75,
     "metadata": {},
     "output_type": "execute_result"
    }
   ],
   "source": [
    "printCounts = 0\n",
    "st = \"\"\n",
    "for row in df_true_new_dataBangla.iterrows():\n",
    "    entry = row[1]\n",
    "    if '2009' in entry['datePublished']:\n",
    "        st += '\\n' + entry['text'] + '\\n'\n",
    "        st += '\\n---------------------\\n'\n",
    "        printCounts+=1\n",
    "    if printCounts == 10: break\n",
    "open('trialCheck.txt','w').write(st)"
   ]
  },
  {
   "cell_type": "code",
   "execution_count": 30,
   "metadata": {},
   "outputs": [
    {
     "data": {
      "text/plain": [
       "defaultdict(int,\n",
       "            {'2007': 85,\n",
       "             '2008': 52,\n",
       "             '2009': 29,\n",
       "             '2010': 35,\n",
       "             '2011': 19,\n",
       "             '2012': 26,\n",
       "             '2013': 22,\n",
       "             '2014': 22})"
      ]
     },
     "execution_count": 30,
     "metadata": {},
     "output_type": "execute_result"
    }
   ],
   "source": [
    "from collections import defaultdict\n",
    "dateCounts = defaultdict(int)\n",
    "for i in df_true_new_dataBangla['datePublished']:\n",
    "    try:\n",
    "        year = i.split('-')[0]\n",
    "        if year: dateCounts[year] += 1\n",
    "    except Exception as e:\n",
    "        print(e)\n",
    "        print(i)\n",
    "dateCounts"
   ]
  },
  {
   "cell_type": "markdown",
   "metadata": {},
   "source": [
    "### Upload data"
   ]
  },
  {
   "cell_type": "code",
   "execution_count": 78,
   "metadata": {},
   "outputs": [],
   "source": [
    "def upload_data(data, upload_folder, n=1000):\n",
    "    if not os.path.isdir(upload_folder): os.mkdir(upload_folder)\n",
    "    for row in data.sample(n=n, random_state=32).iterrows():\n",
    "        iid = row[1]['doc_id']\n",
    "        newspaper = row[1]['newspaper']\n",
    "        filename = '{}_data_{}@.txt'.format(newspaper, iid)\n",
    "        text = row[1]['text'] + '\\n@#@'\n",
    "        open(os.path.join(upload_folder, filename),'w').write(text)\n",
    "nd = df_data[df_data['is_flood']==True]\n",
    "nd = nd[nd['newspaper'].notna()]\n",
    "nd = nd[nd['doc_id'].notna()]\n",
    "upload_data(nd, 'upload-flood', 200)"
   ]
  },
  {
   "cell_type": "code",
   "execution_count": 99,
   "metadata": {},
   "outputs": [],
   "source": [
    "def get_id_from_filename(filename):\n",
    "    if('_data_') in filename:\n",
    "        splt =  filename.replace('@','').split('_data_')\n",
    "        if len(splt)>1:\n",
    "            doc_id = splt[1].replace('_', '-')\n",
    "            doc_id = doc_id.split('.')[0]\n",
    "            return doc_id\n",
    "\n",
    "def upload_data(data, upload_folder, prev_ann_folder, n=1000):\n",
    "    if not os.path.isdir(upload_folder): os.mkdir(upload_folder)\n",
    "    ids = {row[1]['doc_id']:row[1]['org_text'] for row in data.iterrows()}\n",
    "    anns = {}\n",
    "    for filename in os.listdir(prev_ann_folder):\n",
    "        if '.json' in filename:\n",
    "            iid = get_id_from_filename(filename)\n",
    "            if iid in ids:\n",
    "                anns[iid] = filename\n",
    "    for iid in random.sample(list(anns.keys()), n):\n",
    "        filepath = anns[iid]\n",
    "        filename = filepath.split('-')[1].split('.')[0]\n",
    "        txt_file = filename + '.txt'\n",
    "        annjson = filename + '.ann.json'\n",
    "        copyfile(os.path.join(prev_ann_folder, filepath), os.path.join(upload_folder, annjson))\n",
    "        text = str(ids[iid]) + '\\n@#@'\n",
    "        open(os.path.join(upload_folder, txt_file),'w').write(text)\n",
    "        \n",
    "nd = df_data[df_data['is_flood']==True]\n",
    "nd = nd[nd['newspaper'].notna()]\n",
    "nd = nd[nd['doc_id'].notna()]\n",
    "upload_data(nd, 'upload-flood', '../tagtog/output', 200)\n"
   ]
  },
  {
   "cell_type": "code",
   "execution_count": null,
   "metadata": {},
   "outputs": [],
   "source": []
  }
 ],
 "metadata": {
  "kernelspec": {
   "display_name": "Python 3",
   "language": "python",
   "name": "python3"
  },
  "language_info": {
   "codemirror_mode": {
    "name": "ipython",
    "version": 3
   },
   "file_extension": ".py",
   "mimetype": "text/x-python",
   "name": "python",
   "nbconvert_exporter": "python",
   "pygments_lexer": "ipython3",
   "version": "3.8.2"
  }
 },
 "nbformat": 4,
 "nbformat_minor": 2
}
