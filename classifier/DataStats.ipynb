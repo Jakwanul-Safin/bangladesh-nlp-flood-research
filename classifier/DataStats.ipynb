{
 "cells": [
  {
   "cell_type": "code",
   "execution_count": 78,
   "metadata": {},
   "outputs": [],
   "source": [
    "from sklearn.feature_extraction.text import CountVectorizer\n",
    "from sklearn.feature_extraction.text import TfidfVectorizer\n",
    "\n",
    "from sklearn.tree import DecisionTreeClassifier\n",
    "from sklearn.ensemble import RandomForestClassifier\n",
    "from sklearn.svm import LinearSVC\n",
    "from sklearn.naive_bayes import MultinomialNB\n",
    "from sklearn.linear_model import LogisticRegression\n",
    "\n",
    "from sklearn.metrics import accuracy_score, confusion_matrix, classification_report, precision_recall_fscore_support\n",
    "from sklearn.model_selection import train_test_split, ParameterGrid\n",
    "import nltk\n",
    "from nltk.tokenize import word_tokenize\n",
    "from sklearn.utils import shuffle\n",
    "from sklearn import decomposition\n",
    "import pandas as pd\n",
    "from copy import deepcopy\n",
    "import os\n",
    "import re\n",
    "import numpy as np\n",
    "import matplotlib.pyplot as plt\n",
    "import json\n",
    "import itertools\n",
    "import random\n",
    "import warnings\n",
    "import string\n",
    "from shutil import copyfile\n",
    "warnings.filterwarnings(\"ignore\", category=UserWarning)\n",
    "import datetime as dt\n",
    "from datetime import datetime\n",
    "import dateparser\n",
    "from functions import *\n"
   ]
  },
  {
   "cell_type": "code",
   "execution_count": 3,
   "metadata": {},
   "outputs": [],
   "source": [
    "global_shuffle_seed = 4\n",
    "global_debug=True\n",
    "global_override=True"
   ]
  },
  {
   "cell_type": "code",
   "execution_count": 99,
   "metadata": {},
   "outputs": [
    {
     "name": "stdout",
     "output_type": "stream",
     "text": [
      "Total: 1380 True: 663 False: 717\n"
     ]
    }
   ],
   "source": [
    "result, clf_result = {}, {}\n",
    "df_data = load_data_tagtog(['../tagtog/output'])\n",
    "df_data = df_data[df_data['is_flood'].notna()]\n",
    "data_true = query_dataframe(df_data, {'is_flood':True})\n",
    "data_false = query_dataframe(df_data, {'is_flood':False})\n",
    "print('Total:',len(df_data),'True:',len(data_true), 'False:',len(data_false))"
   ]
  },
  {
   "cell_type": "code",
   "execution_count": 140,
   "metadata": {},
   "outputs": [
    {
     "name": "stderr",
     "output_type": "stream",
     "text": [
      "/Users/tejitpabari/Desktop/BangladeshFloodResearch/nlp_flood_research/bangladesh_flood_venv/lib/python3.7/site-packages/ipykernel_launcher.py:20: SettingWithCopyWarning: \n",
      "A value is trying to be set on a copy of a slice from a DataFrame.\n",
      "Try using .loc[row_indexer,col_indexer] = value instead\n",
      "\n",
      "See the caveats in the documentation: http://pandas.pydata.org/pandas-docs/stable/indexing.html#indexing-view-versus-copy\n",
      "/Users/tejitpabari/Desktop/BangladeshFloodResearch/nlp_flood_research/bangladesh_flood_venv/lib/python3.7/site-packages/ipykernel_launcher.py:21: SettingWithCopyWarning: \n",
      "A value is trying to be set on a copy of a slice from a DataFrame.\n",
      "Try using .loc[row_indexer,col_indexer] = value instead\n",
      "\n",
      "See the caveats in the documentation: http://pandas.pydata.org/pandas-docs/stable/indexing.html#indexing-view-versus-copy\n"
     ]
    }
   ],
   "source": [
    "df_data_dates_check = df_data[df_data['dates'].apply(lambda x:(len(x)>0) and \n",
    "                               (sum([i.count('-')==2 for i in x if i is not None])>0))]\n",
    "diff = []\n",
    "diff2 = []\n",
    "for row in df_data_dates_check.iterrows():\n",
    "    inner_diff = []\n",
    "    inner_diff2 = []\n",
    "    datePub = dateparser.parse(row[1]['datePublished']).replace(tzinfo=None)\n",
    "    for d in row[1]['dates']:\n",
    "        if d:\n",
    "            d2 = dateparser.parse(d)\n",
    "            if datePub.year >= 2014:\n",
    "                inner_diff2.append(abs(d2.month-datePub.month))\n",
    "            inner_diff.append(datePub - d2)\n",
    "    if inner_diff2:\n",
    "        diff2.append(sorted(inner_diff2)[0])\n",
    "    else:\n",
    "        diff2.append(0)\n",
    "    diff.append(sorted(inner_diff)[0])\n",
    "df_data_dates_check['diff'] = diff\n",
    "df_data_dates_check['diff2'] = diff2"
   ]
  },
  {
   "cell_type": "code",
   "execution_count": 141,
   "metadata": {},
   "outputs": [],
   "source": [
    "words_list = ['yesterday', 'today', 'week ago']\n",
    "df_data_dates_p = df_data_dates_check[df_data_dates_check\n",
    "                               .apply(lambda x:x['diff']>dt.timedelta(days=7), axis=1)]\n",
    "df_data_dates_p2 = df_data_dates_p[df_data_dates_p\n",
    "                               .apply(lambda x: all(i not in x['org_text'].lower() for i in words_list), axis=1)]\n",
    "df_data_dates_m = df_data_dates_check[df_data_dates_check\n",
    "                               .apply(lambda x:x['diff2']>0, axis=1)]"
   ]
  },
  {
   "cell_type": "code",
   "execution_count": 123,
   "metadata": {},
   "outputs": [
    {
     "data": {
      "text/plain": [
       "158796"
      ]
     },
     "execution_count": 123,
     "metadata": {},
     "output_type": "execute_result"
    }
   ],
   "source": [
    "st = \"\"\n",
    "for row in df_data_dates_p[['dates', 'datePublished', 'diff', 'org_text']].iterrows():\n",
    "    st += \"{}: {}\\n\".format('dates', row[1]['dates'])\n",
    "    st += \"{}: {}\\n\".format('datePublished', row[1]['datePublished'])\n",
    "    st += \"{}\\n\".format(row[1]['org_text'])\n",
    "    st += \"\\n\" + ''.join(['-']*15) + '\\n\\n'\n",
    "open('check_dates_diff.txt','w').write(st)"
   ]
  },
  {
   "cell_type": "code",
   "execution_count": 142,
   "metadata": {},
   "outputs": [
    {
     "data": {
      "text/plain": [
       "0.09359605911330049"
      ]
     },
     "execution_count": 142,
     "metadata": {},
     "output_type": "execute_result"
    }
   ],
   "source": [
    "len(df_data_dates_m)/len(df_data_dates_check)"
   ]
  },
  {
   "cell_type": "code",
   "execution_count": 101,
   "metadata": {
    "scrolled": true
   },
   "outputs": [
    {
     "name": "stdout",
     "output_type": "stream",
     "text": [
      "Connect_filename: 1989_34feabf9fb9bd7378a2a378bbc72e5c80ce50f43.txt not found in paper: nytimes None\n",
      "Connect_filename: 1989_72ea0049403a8352f966af952ce35fdfa4f75880.txt not found in paper: nytimes None\n",
      "Connect_filename: 1989_3e5fb503a3e12bd28b90e109b828cbd0bdb9cbb7.txt not found in paper: nytimes None\n",
      "Connect_filename: 1989_ccd0c51c174b4f4c76a6d8c3053f8567f09a4d10.txt not found in paper: nytimes None\n",
      "Connect_filename: 1985_7f4528fb7fc63a7211fd7403878914dd17917d62.txt not found in paper: nytimes None\n",
      "Connect_filename: 1989_9588181e3402b6b4a67d9dc7f2d52e030484497d.txt not found in paper: nytimes None\n",
      "Connect_filename: 1989_ac61d6dde559b3b37b3136319b70d592c62e8557.txt not found in paper: nytimes None\n",
      "Connect_filename: 1989_50fecf13697bb74d55af74ddb6607fbbbbfe6169.txt not found in paper: nytimes None\n",
      "Connect_filename: 1989_53f239040243347d84d785d0d168a1879095a5a1.txt not found in paper: nytimes None\n",
      "Connect_filename: 1985_5b2ccf9aeab018b80c8c877dbd8ea875e6aa4945.txt not found in paper: nytimes None\n",
      "Connect_filename: 1989_f1fb37aedd5f88ee440bf6ec326a32f2d6969a4b.txt not found in paper: nytimes None\n",
      "Connect_filename: 1989_71d9a3d52436228c4e4e440c6b898a86ce4f4ebc.txt not found in paper: nytimes None\n",
      "Connect_filename: 1985_24485e3ab2f0378a7931558484c8f0d64ee050e6.txt not found in paper: nytimes None\n",
      "Connect_filename: 1989_589016fa56502b603ac5bf0d27e2f806c5815f51.txt not found in paper: nytimes None\n",
      "Connect_filename: 1984_0b6f4d8252ab30083845186bf687dec9d04d22c2.txt not found in paper: nytimes None\n",
      "Connect_filename: 1989_c28590c39a5900f95c1c95a9356f13bc7f3cf7b1.txt not found in paper: nytimes None\n",
      "Connect_filename: 1989_85674b8a312dfd138d94968c8ad0575972e8b916.txt not found in paper: nytimes None\n",
      "Connect_filename: 1989_48493975beba2e2565f86370bdbeb61f25cfef8b.txt not found in paper: nytimes None\n",
      "Connect_filename: 1989_16838a17f804e4d3f94b962fdc33514d3cc41212.txt not found in paper: nytimes None\n",
      "Connect_filename: 1989_79a58d8c715888d38f1997026cbbe1281599f5c1.txt not found in paper: nytimes None\n",
      "Connect_filename: 1989_97c222cbaf188515e153d719f78c7bdb4901da3c.txt not found in paper: nytimes None\n",
      "Connect_filename: 1989_a0633c7e0531e02458e3ac9f0081499a1b107741.txt not found in paper: nytimes None\n",
      "Connect_filename: 1989_434f0af174eeb5795fbd6997b4d902059dc54acc.txt not found in paper: nytimes None\n",
      "Connect_filename: 1989_3b2e2e725ca302c6b13f6955fa67d85e583a880c.txt not found in paper: nytimes None\n",
      "Connect_filename: 1989_2c0b6566f47b6bcbed37fe6f93e49f61a0f61127.txt not found in paper: nytimes None\n",
      "Connect_filename: 1989_c2ac50e2d69b5f85bcbfd66f12cd702c39041b83.txt not found in paper: nytimes None\n",
      "Connect_filename: 1989_f5aea63e0cecf8236b1a021b7c396e50011ad446.txt not found in paper: nytimes None\n",
      "Connect_filename: 1989_d14b35eaba932d1db3909f283034b838d883120e.txt not found in paper: nytimes None\n",
      "Connect_filename: 1985_0df8270856be250dcf5389659da271835dc178b5.txt not found in paper: nytimes None\n",
      "Connect_filename: 1989_545b6a31e226bfb6fd46771805b18c337dc37633.txt not found in paper: nytimes None\n",
      "Connect_filename: 1985_647e15b3b956a51326a4bfac4caf850c610a4531.txt not found in paper: nytimes None\n",
      "Connect_filename: 1989_1565f73608a46f72a31ced12afe7daabde4ce75c.txt not found in paper: nytimes None\n",
      "Connect_filename: 1989_cae7d17885af8dfb56a4d52dfcedc4197e872fa5.txt not found in paper: nytimes None\n",
      "Connect_filename: 1989_9bf3d6911d4888cd85d66fd511b887140e495f94.txt not found in paper: nytimes None\n",
      "Connect_filename: 1984_e8f4327d308814fac43a4e1ed0e7de3573acfb3d.txt not found in paper: nytimes None\n",
      "Connect_filename: 1985_8d844f2e06b547a7efbf684416448d8698e69ae6.txt not found in paper: nytimes None\n",
      "Connect_filename: 1989_44e20f8fb1d9b3f76fdf0d28e4ef291357e37af1.txt not found in paper: nytimes None\n",
      "Connect_filename: 1984_9a5929f1bf192b821c38d70bd94514192a61a10f.txt not found in paper: nytimes None\n",
      "Connect_filename: 1989_11ef598a514f31976e86786661506fb8736192b4.txt not found in paper: nytimes None\n",
      "Connect_filename: 1989_daf57907f601dd538445d9013a7c60f8480a8f10.txt not found in paper: nytimes None\n",
      "Connect_filename: 1985_bada0c1ab20a78ba703112ec6fef053f0d2958d2.txt not found in paper: nytimes None\n",
      "Connect_filename: 1989_abc04dba92859b7f5b02b2e1c50fd77c74ce2b69.txt not found in paper: nytimes None\n",
      "Connect_filename: 1989_916b4b1308710b182453855d7a8797c48ae344e7.txt not found in paper: nytimes None\n",
      "Connect_filename: 1989_e06beb197bc7c86a8595f06cd998cc8e6b2e7578.txt not found in paper: nytimes None\n",
      "Connect_filename: 1989_bc9f2a60aba835d642d38552a49a5a8094474d92.txt not found in paper: nytimes None\n",
      "Connect_filename: 1989_79269b1b983f15f99ff1cbb93930649d82d60e8e.txt not found in paper: nytimes None\n",
      "Connect_filename: 1989_183f3764de86b65ea1e08f26e783431472043505.txt not found in paper: nytimes None\n",
      "Connect_filename: 1989_e9ee75a0f02450cde63345d544dacf9bae0641ff.txt not found in paper: nytimes None\n",
      "Connect_filename: 1989_60f6e4abd0782d1358156c1804a68dc9472dba04.txt not found in paper: nytimes None\n",
      "Connect_filename: 1989_e9134a4216117223573e1e647a2018000b839d5c.txt not found in paper: nytimes None\n"
     ]
    }
   ],
   "source": [
    "df_data = add_newspapers(df_data)\n",
    "df_data = add_datePublished(df_data)\n",
    "df_data = add_location(df_data)"
   ]
  },
  {
   "cell_type": "code",
   "execution_count": 102,
   "metadata": {},
   "outputs": [],
   "source": [
    "custom_stop_words = set(['date', 'published'])\n",
    "stop_words = set(nltk.corpus.stopwords.words('english'))\n",
    "punctuations = set(string.punctuation)\n",
    "all_stop_words = stop_words.union(punctuations, custom_stop_words)\n",
    "def preprocess(x):\n",
    "    x = re.sub('[^a-z\\s]', ' ', x.lower())\n",
    "    x = [w for w in x.split() if w not in all_stop_words and len(w)>3]\n",
    "    return ' '.join(x)"
   ]
  },
  {
   "cell_type": "code",
   "execution_count": 104,
   "metadata": {},
   "outputs": [],
   "source": [
    "df_data['org_text'] = df_data['text'].copy()\n",
    "df_data['text'] = df_data['text'].apply(preprocess)"
   ]
  },
  {
   "cell_type": "markdown",
   "metadata": {},
   "source": [
    "## Stats"
   ]
  },
  {
   "cell_type": "code",
   "execution_count": 10,
   "metadata": {},
   "outputs": [],
   "source": [
    "def runall(func, text, ffunc=None):\n",
    "    n = [func(f) for f in df_data[text]]\n",
    "    nif = [func(f) for f in df_data.loc[df_data['is_flood']==True][text]]\n",
    "    nnf = [func(f) for f in df_data.loc[df_data['is_flood']!=True][text]]\n",
    "    \n",
    "    if ffunc is not None:\n",
    "        n, nif, nnf = ffunc(n), ffunc(nif), ffunc(nnf)\n",
    "    return n, nif, nnf"
   ]
  },
  {
   "cell_type": "code",
   "execution_count": 80,
   "metadata": {},
   "outputs": [
    {
     "data": {
      "text/plain": [
       "(28, 24, 32)"
      ]
     },
     "execution_count": 80,
     "metadata": {},
     "output_type": "execute_result"
    }
   ],
   "source": [
    "# Sentences\n",
    "def sent_func(f): return len(f.split('.'))\n",
    "runall(sent_func, 'org_text', ffunc=lambda x: int(np.mean(x)))"
   ]
  },
  {
   "cell_type": "code",
   "execution_count": 81,
   "metadata": {},
   "outputs": [
    {
     "data": {
      "text/plain": [
       "(26, 15, 32)"
      ]
     },
     "execution_count": 81,
     "metadata": {},
     "output_type": "execute_result"
    }
   ],
   "source": [
    "# Standard Deviation\n",
    "runall(sent_func, 'org_text', ffunc=lambda x: int(np.std(x)))"
   ]
  },
  {
   "cell_type": "code",
   "execution_count": 82,
   "metadata": {},
   "outputs": [
    {
     "data": {
      "text/plain": [
       "(263, 119, 263)"
      ]
     },
     "execution_count": 82,
     "metadata": {},
     "output_type": "execute_result"
    }
   ],
   "source": [
    "# Max\n",
    "runall(sent_func, 'org_text', ffunc=lambda x: int(np.max(x)))"
   ]
  },
  {
   "cell_type": "code",
   "execution_count": 83,
   "metadata": {},
   "outputs": [
    {
     "data": {
      "text/plain": [
       "(1, 1, 1)"
      ]
     },
     "execution_count": 83,
     "metadata": {},
     "output_type": "execute_result"
    }
   ],
   "source": [
    "# Min\n",
    "runall(sent_func, 'org_text', ffunc=lambda x: int(np.min(x)))"
   ]
  },
  {
   "cell_type": "code",
   "execution_count": 90,
   "metadata": {},
   "outputs": [
    {
     "data": {
      "image/png": "[encoded data removed]",
      "text/plain": [
       "<Figure size 432x288 with 1 Axes>"
      ]
     },
     "metadata": {
      "needs_background": "light"
     },
     "output_type": "display_data"
    },
    {
     "data": {
      "image/png": "[encoded data removed]",
      "text/plain": [
       "<Figure size 432x288 with 1 Axes>"
      ]
     },
     "metadata": {
      "needs_background": "light"
     },
     "output_type": "display_data"
    },
    {
     "data": {
      "image/png": "[encoded data removed]",
      "text/plain": [
       "<Figure size 432x288 with 1 Axes>"
      ]
     },
     "metadata": {
      "needs_background": "light"
     },
     "output_type": "display_data"
    }
   ],
   "source": [
    "#Hist\n",
    "n, nif, nnf = runall(sent_func, 'org_text')\n",
    "plt.hist(n)\n",
    "plt.title('All Articles Sentence Counts distribution')\n",
    "plt.xlabel('Number of Articles')\n",
    "plt.ylabel('Sentence Counts')\n",
    "plt.show()\n",
    "plt.hist(nif)\n",
    "plt.title('Flood Articles Sentence Counts distribution')\n",
    "plt.xlabel('Number of Articles')\n",
    "plt.ylabel('Sentence Counts')\n",
    "plt.show()\n",
    "plt.hist(nnf)\n",
    "plt.title('Non Flood Articles Sentence Counts distribution')\n",
    "plt.xlabel('Number of Articles')\n",
    "plt.ylabel('Sentence Counts')\n",
    "plt.show()"
   ]
  },
  {
   "cell_type": "code",
   "execution_count": 42,
   "metadata": {},
   "outputs": [
    {
     "data": {
      "text/plain": [
       "59946"
      ]
     },
     "execution_count": 42,
     "metadata": {},
     "output_type": "execute_result"
    }
   ],
   "source": [
    "def get_more_less_lim(text, lim=512, splt=' '):\n",
    "    splt_text = text.split(splt)\n",
    "    pre_splt = [f for i,f in enumerate(splt_text) if i<lim]\n",
    "    post_splt = [f for i,f in enumerate(splt_text) if i>=lim]\n",
    "    return ' '.join(pre_splt), ' '.join(post_splt)\n",
    "per = len([f for f in n if f > 512])/len(n)*100\n",
    "data_512 = df_data.iloc[[i for i,f in enumerate(n) if f > 512],:]\n",
    "st = \"\"\n",
    "for s in data_512['text'].sample(n=15, random_state=32):\n",
    "    pre, post = get_more_less_lim(s)\n",
    "    st += pre + '\\n\\n'\n",
    "open('pre-text.txt','w').write(st)"
   ]
  },
  {
   "cell_type": "code",
   "execution_count": 28,
   "metadata": {},
   "outputs": [
    {
     "data": {
      "text/plain": [
       "(array([114.,  29.,  12.,  10.,   3.,   0.,   4.,   1.,   1.,   1.]),\n",
       " array([ 513.,  732.,  951., 1170., 1389., 1608., 1827., 2046., 2265.,\n",
       "        2484., 2703.]),\n",
       " <a list of 10 Patch objects>)"
      ]
     },
     "execution_count": 28,
     "metadata": {},
     "output_type": "execute_result"
    },
    {
     "data": {
      "image/png": "[encoded data removed]",
      "text/plain": [
       "<Figure size 432x288 with 1 Axes>"
      ]
     },
     "metadata": {
      "needs_background": "light"
     },
     "output_type": "display_data"
    }
   ],
   "source": [
    "plt.hist([f for f in n if f > 512])"
   ]
  },
  {
   "cell_type": "code",
   "execution_count": 11,
   "metadata": {},
   "outputs": [
    {
     "data": {
      "text/plain": [
       "(311, 274, 346)"
      ]
     },
     "execution_count": 11,
     "metadata": {},
     "output_type": "execute_result"
    }
   ],
   "source": [
    "# Words, org_text\n",
    "def words_func(f): return len(f.split(' '))\n",
    "runall(words_func, 'org_text', ffunc=lambda x: int(np.mean(x)))"
   ]
  },
  {
   "cell_type": "code",
   "execution_count": 139,
   "metadata": {},
   "outputs": [
    {
     "data": {
      "text/plain": [
       "(311, 274, 346)"
      ]
     },
     "execution_count": 139,
     "metadata": {},
     "output_type": "execute_result"
    }
   ],
   "source": [
    "# Words, pre-processed_text\n",
    "def words_func(f): return len(f.split(' '))\n",
    "runall(words_func, 'text', ffunc=lambda x: int(np.mean(x)))"
   ]
  },
  {
   "cell_type": "code",
   "execution_count": 33,
   "metadata": {},
   "outputs": [
    {
     "data": {
      "text/plain": [
       "(314, 271, 353)"
      ]
     },
     "execution_count": 33,
     "metadata": {},
     "output_type": "execute_result"
    }
   ],
   "source": [
    "# Words, unique, org_text\n",
    "def words_func(f): return len(set(f.split(' ')))\n",
    "runall(words_func, 'org_text', ffunc=lambda x: int(np.mean(x)))"
   ]
  },
  {
   "cell_type": "code",
   "execution_count": 34,
   "metadata": {},
   "outputs": [
    {
     "data": {
      "text/plain": [
       "(205, 176, 233)"
      ]
     },
     "execution_count": 34,
     "metadata": {},
     "output_type": "execute_result"
    }
   ],
   "source": [
    "# Words, unique, pre-processed_text\n",
    "def words_func(f): return len(set(f.split(' ')))\n",
    "runall(words_func, 'text', ffunc=lambda x: int(np.mean(x)))"
   ]
  },
  {
   "cell_type": "code",
   "execution_count": 136,
   "metadata": {},
   "outputs": [
    {
     "data": {
      "image/png": "[encoded data removed]",
      "text/plain": [
       "<Figure size 432x288 with 1 Axes>"
      ]
     },
     "metadata": {
      "needs_background": "light"
     },
     "output_type": "display_data"
    },
    {
     "data": {
      "image/png": "[encoded data removed]",
      "text/plain": [
       "<Figure size 432x288 with 1 Axes>"
      ]
     },
     "metadata": {
      "needs_background": "light"
     },
     "output_type": "display_data"
    },
    {
     "data": {
      "image/png": "[encoded data removed]",
      "text/plain": [
       "<Figure size 432x288 with 1 Axes>"
      ]
     },
     "metadata": {
      "needs_background": "light"
     },
     "output_type": "display_data"
    }
   ],
   "source": [
    "# Words, pre-processed_text Hist\n",
    "def words_func(f): return len(f.split(' '))\n",
    "n, nif, nnf = runall(words_func, 'text')\n",
    "plt.hist(n)\n",
    "plt.title('All Articles Word distribution')\n",
    "plt.xlabel('Number of Articles')\n",
    "plt.ylabel('Word Count')\n",
    "plt.show()\n",
    "plt.hist(nif)\n",
    "plt.title('Flood Articles Word Count distribution')\n",
    "plt.xlabel('Number of Articles')\n",
    "plt.ylabel('Word Count')\n",
    "plt.show()\n",
    "plt.hist(nnf)\n",
    "plt.title('Non Flood Articles Word Count distribution')\n",
    "plt.xlabel('Number of Articles')\n",
    "plt.ylabel('Word Count')\n",
    "plt.show()"
   ]
  },
  {
   "cell_type": "code",
   "execution_count": null,
   "metadata": {},
   "outputs": [],
   "source": [
    "n"
   ]
  },
  {
   "cell_type": "code",
   "execution_count": 68,
   "metadata": {},
   "outputs": [
    {
     "name": "stdout",
     "output_type": "stream",
     "text": [
      "\\begin{tabular}{lr}\n",
      "\\toprule\n",
      "{} &  is\\_flood \\\\\n",
      "newspaper      &           \\\\\n",
      "\\midrule\n",
      "bdnews         &       104 \\\\\n",
      "dailyObserver  &        43 \\\\\n",
      "dailySun       &       113 \\\\\n",
      "dhakaTribune   &       428 \\\\\n",
      "newAge         &        53 \\\\\n",
      "nytimes        &       158 \\\\\n",
      "prothomalo     &        27 \\\\\n",
      "theDailyStar   &       315 \\\\\n",
      "theIndependent &        59 \\\\\n",
      "theNewNation   &         6 \\\\\n",
      "\\bottomrule\n",
      "\\end{tabular}\n",
      "\n"
     ]
    }
   ],
   "source": [
    "df_data_bangla = df_data[df_data['divisions'].apply(lambda x:len(x)>0)]\n",
    "print(df_data_bangla.groupby('newspaper')['is_flood'].count().to_latex())"
   ]
  },
  {
   "cell_type": "code",
   "execution_count": 63,
   "metadata": {},
   "outputs": [
    {
     "data": {
      "text/plain": [
       "flood_type\n",
       "                 401\n",
       "cyclone           21\n",
       "flash             49\n",
       "monsoon          127\n",
       "river_erosion     37\n",
       "urban             13\n",
       "Name: is_flood, dtype: int64"
      ]
     },
     "execution_count": 63,
     "metadata": {},
     "output_type": "execute_result"
    }
   ],
   "source": [
    "df_data_bangla[df_data_bangla['is_flood']==True].groupby('flood_type')['is_flood'].count()"
   ]
  },
  {
   "cell_type": "code",
   "execution_count": 74,
   "metadata": {},
   "outputs": [
    {
     "name": "stdout",
     "output_type": "stream",
     "text": [
      "dhaka & 1266\\\\\n",
      "khulna & 163\\\\\n",
      "sylhet & 212\\\\\n",
      "rangpur & 264\\\\\n",
      "rajshahi & 222\\\\\n",
      "chittagong & 262\\\\\n",
      "barisal & 112\\\\\n"
     ]
    }
   ],
   "source": [
    "division_dist = defaultdict(int)\n",
    "for i in list(df_data_bangla['divisions']):\n",
    "    for d in i:\n",
    "        division_dist[d]+=1\n",
    "for k,v in division_dist.items():\n",
    "    print('{} & {}\\\\\\\\'.format(k,v))"
   ]
  },
  {
   "cell_type": "code",
   "execution_count": 78,
   "metadata": {},
   "outputs": [
    {
     "data": {
      "text/plain": [
       "0       2017-08-31 06:03:11+00:00\n",
       "1             2016-05-05 00:00:00\n",
       "2            2019-07-17T03:35:13Z\n",
       "4             2019-06-14 00:00:00\n",
       "5       2018-08-22 04:03:52+00:00\n",
       "                  ...            \n",
       "1385          2020-02-22 00:00:00\n",
       "1386    2019-08-12 05:04:05+00:00\n",
       "1387          2019-04-23 00:00:00\n",
       "1388          2017-07-22 00:00:00\n",
       "1389          2019-06-18 00:00:00\n",
       "Name: datePublished, Length: 1306, dtype: object"
      ]
     },
     "execution_count": 78,
     "metadata": {},
     "output_type": "execute_result"
    }
   ],
   "source": [
    "df_data_bangla['datePublished']"
   ]
  },
  {
   "cell_type": "code",
   "execution_count": null,
   "metadata": {},
   "outputs": [],
   "source": []
  }
 ],
 "metadata": {
  "kernelspec": {
   "display_name": "bangladesh_venv",
   "language": "python",
   "name": "bangladesh_venv"
  },
  "language_info": {
   "codemirror_mode": {
    "name": "ipython",
    "version": 3
   },
   "file_extension": ".py",
   "mimetype": "text/x-python",
   "name": "python",
   "nbconvert_exporter": "python",
   "pygments_lexer": "ipython3",
   "version": "3.7.2"
  }
 },
 "nbformat": 4,
 "nbformat_minor": 4
}
